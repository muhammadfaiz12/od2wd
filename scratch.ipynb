{
 "cells": [
  {
   "cell_type": "code",
   "execution_count": 5,
   "metadata": {},
   "outputs": [],
   "source": [
    "import pandas as pd\n",
    "from dateutil.parser import parse"
   ]
  },
  {
   "cell_type": "code",
   "execution_count": 43,
   "metadata": {},
   "outputs": [
    {
     "output_type": "execute_result",
     "data": {
      "text/plain": "                                                unit  \\\n0                            Suban PRD Jakarta Pusat   \n1                            Suban PRD Jakarta Barat   \n2  Suban PRD Jakarta Utara dan Kabupaten Kepulaua...   \n3                          Suban PRD Jakarta Selatan   \n4                            Suban PRD Jakarta Timur   \n\n                                              alamat          wilayah  \\\n0  Gedung Dinas Teknis Abdul Muis, Lantai 2, Jl. ...    Jakarta Pusat   \n1  Kantor Walikota Jakarta Barat, Gedung B Lantai...    Jakarta Barat   \n2  Kantor Walikota Administrasi Jakarta Utara, Ge...    Jakarta Utara   \n3  Kantor Walikota Administrasi Jakarta Selatan, ...  Jakarta Selatan   \n4  Kantor Bersama Samsat Jakarta Timur, Lantai 4,...    Jakarta Timur   \n\n                       email       telepon           fax   latitude  \\\n0     sudin.jakpus@gmail.com  021-3865612    021-3518893  -6.178009   \n1  pajaksudinbarat@gmail.com  021-58357709  021-58357709  -6.153667   \n2      sbprd.utara@gmail.com   021-4358788   021-4358788  -6.120681   \n3    sbprd.selatan@gmail.com   021-7226350   021-7206910  -6.247697   \n4  sudinpajaktimur@gmail.com   021-8199831           NaN  -6.229624   \n\n    longitude  \n0  106.818561  \n1  106.738311  \n2  106.892289  \n3  106.807775  \n4  106.877030  ",
      "text/html": "<div>\n<style scoped>\n    .dataframe tbody tr th:only-of-type {\n        vertical-align: middle;\n    }\n\n    .dataframe tbody tr th {\n        vertical-align: top;\n    }\n\n    .dataframe thead th {\n        text-align: right;\n    }\n</style>\n<table border=\"1\" class=\"dataframe\">\n  <thead>\n    <tr style=\"text-align: right;\">\n      <th></th>\n      <th>unit</th>\n      <th>alamat</th>\n      <th>wilayah</th>\n      <th>email</th>\n      <th>telepon</th>\n      <th>fax</th>\n      <th>latitude</th>\n      <th>longitude</th>\n    </tr>\n  </thead>\n  <tbody>\n    <tr>\n      <th>0</th>\n      <td>Suban PRD Jakarta Pusat</td>\n      <td>Gedung Dinas Teknis Abdul Muis, Lantai 2, Jl. ...</td>\n      <td>Jakarta Pusat</td>\n      <td>sudin.jakpus@gmail.com</td>\n      <td>021-3865612</td>\n      <td>021-3518893</td>\n      <td>-6.178009</td>\n      <td>106.818561</td>\n    </tr>\n    <tr>\n      <th>1</th>\n      <td>Suban PRD Jakarta Barat</td>\n      <td>Kantor Walikota Jakarta Barat, Gedung B Lantai...</td>\n      <td>Jakarta Barat</td>\n      <td>pajaksudinbarat@gmail.com</td>\n      <td>021-58357709</td>\n      <td>021-58357709</td>\n      <td>-6.153667</td>\n      <td>106.738311</td>\n    </tr>\n    <tr>\n      <th>2</th>\n      <td>Suban PRD Jakarta Utara dan Kabupaten Kepulaua...</td>\n      <td>Kantor Walikota Administrasi Jakarta Utara, Ge...</td>\n      <td>Jakarta Utara</td>\n      <td>sbprd.utara@gmail.com</td>\n      <td>021-4358788</td>\n      <td>021-4358788</td>\n      <td>-6.120681</td>\n      <td>106.892289</td>\n    </tr>\n    <tr>\n      <th>3</th>\n      <td>Suban PRD Jakarta Selatan</td>\n      <td>Kantor Walikota Administrasi Jakarta Selatan, ...</td>\n      <td>Jakarta Selatan</td>\n      <td>sbprd.selatan@gmail.com</td>\n      <td>021-7226350</td>\n      <td>021-7206910</td>\n      <td>-6.247697</td>\n      <td>106.807775</td>\n    </tr>\n    <tr>\n      <th>4</th>\n      <td>Suban PRD Jakarta Timur</td>\n      <td>Kantor Bersama Samsat Jakarta Timur, Lantai 4,...</td>\n      <td>Jakarta Timur</td>\n      <td>sudinpajaktimur@gmail.com</td>\n      <td>021-8199831</td>\n      <td>NaN</td>\n      <td>-6.229624</td>\n      <td>106.877030</td>\n    </tr>\n  </tbody>\n</table>\n</div>"
     },
     "metadata": {},
     "execution_count": 43
    }
   ],
   "source": [
    "df = pd.read_csv(\"data1.csv\", encoding='latin-1')\n",
    "df_asli_column_asli = df.columns\n",
    "df.head()"
   ]
  },
  {
   "cell_type": "code",
   "execution_count": 44,
   "metadata": {},
   "outputs": [],
   "source": [
    "# df.insert(1, \"#-1\", \"data.jakarta.go.id\")\n",
    "# df.insert(3, \"#-2\", \"data.jakarta.go.id\")\n",
    "\n",
    "doc_idx = 1\n",
    "while doc_idx <= len(df.columns):\n",
    "    df.insert(doc_idx, \"#-%d\"%doc_idx, \"data.jakarta.go.id\")\n",
    "    doc_idx += 2\n",
    "#All reference column (#-<idx>) should be formatted to \"#\" to match QS\n",
    "cols_cleaning_reference = [\"#\" if \"#-\" in col else col for col in df.columns]\n",
    "df.columns = cols_after_reference"
   ]
  },
  {
   "cell_type": "code",
   "execution_count": 41,
   "metadata": {},
   "outputs": [
    {
     "output_type": "execute_result",
     "data": {
      "text/plain": "                                                unit                   #  \\\n0                            Suban PRD Jakarta Pusat  data.jakarta.go.id   \n1                            Suban PRD Jakarta Barat  data.jakarta.go.id   \n2  Suban PRD Jakarta Utara dan Kabupaten Kepulaua...  data.jakarta.go.id   \n3                          Suban PRD Jakarta Selatan  data.jakarta.go.id   \n4                            Suban PRD Jakarta Timur  data.jakarta.go.id   \n\n                                              alamat                   #  \\\n0  Gedung Dinas Teknis Abdul Muis, Lantai 2, Jl. ...  data.jakarta.go.id   \n1  Kantor Walikota Jakarta Barat, Gedung B Lantai...  data.jakarta.go.id   \n2  Kantor Walikota Administrasi Jakarta Utara, Ge...  data.jakarta.go.id   \n3  Kantor Walikota Administrasi Jakarta Selatan, ...  data.jakarta.go.id   \n4  Kantor Bersama Samsat Jakarta Timur, Lantai 4,...  data.jakarta.go.id   \n\n           wilayah                   #                      email  \\\n0    Jakarta Pusat  data.jakarta.go.id     sudin.jakpus@gmail.com   \n1    Jakarta Barat  data.jakarta.go.id  pajaksudinbarat@gmail.com   \n2    Jakarta Utara  data.jakarta.go.id      sbprd.utara@gmail.com   \n3  Jakarta Selatan  data.jakarta.go.id    sbprd.selatan@gmail.com   \n4    Jakarta Timur  data.jakarta.go.id  sudinpajaktimur@gmail.com   \n\n                    #       telepon                   #           fax  \\\n0  data.jakarta.go.id  021-3865612   data.jakarta.go.id   021-3518893   \n1  data.jakarta.go.id  021-58357709  data.jakarta.go.id  021-58357709   \n2  data.jakarta.go.id   021-4358788  data.jakarta.go.id   021-4358788   \n3  data.jakarta.go.id   021-7226350  data.jakarta.go.id   021-7206910   \n4  data.jakarta.go.id   021-8199831  data.jakarta.go.id           NaN   \n\n                    #   latitude                   #   longitude  \\\n0  data.jakarta.go.id  -6.178009  data.jakarta.go.id  106.818561   \n1  data.jakarta.go.id  -6.153667  data.jakarta.go.id  106.738311   \n2  data.jakarta.go.id  -6.120681  data.jakarta.go.id  106.892289   \n3  data.jakarta.go.id  -6.247697  data.jakarta.go.id  106.807775   \n4  data.jakarta.go.id  -6.229624  data.jakarta.go.id  106.877030   \n\n                    #  \n0  data.jakarta.go.id  \n1  data.jakarta.go.id  \n2  data.jakarta.go.id  \n3  data.jakarta.go.id  \n4  data.jakarta.go.id  ",
      "text/html": "<div>\n<style scoped>\n    .dataframe tbody tr th:only-of-type {\n        vertical-align: middle;\n    }\n\n    .dataframe tbody tr th {\n        vertical-align: top;\n    }\n\n    .dataframe thead th {\n        text-align: right;\n    }\n</style>\n<table border=\"1\" class=\"dataframe\">\n  <thead>\n    <tr style=\"text-align: right;\">\n      <th></th>\n      <th>unit</th>\n      <th>#</th>\n      <th>alamat</th>\n      <th>#</th>\n      <th>wilayah</th>\n      <th>#</th>\n      <th>email</th>\n      <th>#</th>\n      <th>telepon</th>\n      <th>#</th>\n      <th>fax</th>\n      <th>#</th>\n      <th>latitude</th>\n      <th>#</th>\n      <th>longitude</th>\n      <th>#</th>\n    </tr>\n  </thead>\n  <tbody>\n    <tr>\n      <th>0</th>\n      <td>Suban PRD Jakarta Pusat</td>\n      <td>data.jakarta.go.id</td>\n      <td>Gedung Dinas Teknis Abdul Muis, Lantai 2, Jl. ...</td>\n      <td>data.jakarta.go.id</td>\n      <td>Jakarta Pusat</td>\n      <td>data.jakarta.go.id</td>\n      <td>sudin.jakpus@gmail.com</td>\n      <td>data.jakarta.go.id</td>\n      <td>021-3865612</td>\n      <td>data.jakarta.go.id</td>\n      <td>021-3518893</td>\n      <td>data.jakarta.go.id</td>\n      <td>-6.178009</td>\n      <td>data.jakarta.go.id</td>\n      <td>106.818561</td>\n      <td>data.jakarta.go.id</td>\n    </tr>\n    <tr>\n      <th>1</th>\n      <td>Suban PRD Jakarta Barat</td>\n      <td>data.jakarta.go.id</td>\n      <td>Kantor Walikota Jakarta Barat, Gedung B Lantai...</td>\n      <td>data.jakarta.go.id</td>\n      <td>Jakarta Barat</td>\n      <td>data.jakarta.go.id</td>\n      <td>pajaksudinbarat@gmail.com</td>\n      <td>data.jakarta.go.id</td>\n      <td>021-58357709</td>\n      <td>data.jakarta.go.id</td>\n      <td>021-58357709</td>\n      <td>data.jakarta.go.id</td>\n      <td>-6.153667</td>\n      <td>data.jakarta.go.id</td>\n      <td>106.738311</td>\n      <td>data.jakarta.go.id</td>\n    </tr>\n    <tr>\n      <th>2</th>\n      <td>Suban PRD Jakarta Utara dan Kabupaten Kepulaua...</td>\n      <td>data.jakarta.go.id</td>\n      <td>Kantor Walikota Administrasi Jakarta Utara, Ge...</td>\n      <td>data.jakarta.go.id</td>\n      <td>Jakarta Utara</td>\n      <td>data.jakarta.go.id</td>\n      <td>sbprd.utara@gmail.com</td>\n      <td>data.jakarta.go.id</td>\n      <td>021-4358788</td>\n      <td>data.jakarta.go.id</td>\n      <td>021-4358788</td>\n      <td>data.jakarta.go.id</td>\n      <td>-6.120681</td>\n      <td>data.jakarta.go.id</td>\n      <td>106.892289</td>\n      <td>data.jakarta.go.id</td>\n    </tr>\n    <tr>\n      <th>3</th>\n      <td>Suban PRD Jakarta Selatan</td>\n      <td>data.jakarta.go.id</td>\n      <td>Kantor Walikota Administrasi Jakarta Selatan, ...</td>\n      <td>data.jakarta.go.id</td>\n      <td>Jakarta Selatan</td>\n      <td>data.jakarta.go.id</td>\n      <td>sbprd.selatan@gmail.com</td>\n      <td>data.jakarta.go.id</td>\n      <td>021-7226350</td>\n      <td>data.jakarta.go.id</td>\n      <td>021-7206910</td>\n      <td>data.jakarta.go.id</td>\n      <td>-6.247697</td>\n      <td>data.jakarta.go.id</td>\n      <td>106.807775</td>\n      <td>data.jakarta.go.id</td>\n    </tr>\n    <tr>\n      <th>4</th>\n      <td>Suban PRD Jakarta Timur</td>\n      <td>data.jakarta.go.id</td>\n      <td>Kantor Bersama Samsat Jakarta Timur, Lantai 4,...</td>\n      <td>data.jakarta.go.id</td>\n      <td>Jakarta Timur</td>\n      <td>data.jakarta.go.id</td>\n      <td>sudinpajaktimur@gmail.com</td>\n      <td>data.jakarta.go.id</td>\n      <td>021-8199831</td>\n      <td>data.jakarta.go.id</td>\n      <td>NaN</td>\n      <td>data.jakarta.go.id</td>\n      <td>-6.229624</td>\n      <td>data.jakarta.go.id</td>\n      <td>106.877030</td>\n      <td>data.jakarta.go.id</td>\n    </tr>\n  </tbody>\n</table>\n</div>"
     },
     "metadata": {},
     "execution_count": 41
    }
   ],
   "source": [
    "df.head()"
   ]
  },
  {
   "cell_type": "code",
   "execution_count": null,
   "metadata": {},
   "outputs": [],
   "source": []
  }
 ],
 "metadata": {
  "language_info": {
   "codemirror_mode": {
    "name": "ipython",
    "version": 3
   },
   "file_extension": ".py",
   "mimetype": "text/x-python",
   "name": "python",
   "nbconvert_exporter": "python",
   "pygments_lexer": "ipython3",
   "version": "3.7.3-final"
  },
  "orig_nbformat": 2,
  "kernelspec": {
   "name": "python37364bitbb760e31327a443eaa19e35b2b78b4ce",
   "display_name": "Python 3.7.3 64-bit"
  }
 },
 "nbformat": 4,
 "nbformat_minor": 2
}