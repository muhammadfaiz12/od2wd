{
 "cells": [
  {
   "cell_type": "code",
   "execution_count": 1,
   "metadata": {},
   "outputs": [],
   "source": [
    "import pandas as pd"
   ]
  },
  {
   "cell_type": "code",
   "execution_count": 19,
   "metadata": {},
   "outputs": [
    {
     "output_type": "execute_result",
     "data": {
      "text/plain": "                                                unit  \\\n0                            Suban PRD Jakarta Pusat   \n1                            Suban PRD Jakarta Barat   \n2  Suban PRD Jakarta Utara dan Kabupaten Kepulaua...   \n3                          Suban PRD Jakarta Selatan   \n4                            Suban PRD Jakarta Timur   \n\n                                              alamat          wilayah  \\\n0  Gedung Dinas Teknis Abdul Muis, Lantai 2, Jl. ...    Jakarta Pusat   \n1  Kantor Walikota Jakarta Barat, Gedung B Lantai...    Jakarta Barat   \n2  Kantor Walikota Administrasi Jakarta Utara, Ge...    Jakarta Utara   \n3  Kantor Walikota Administrasi Jakarta Selatan, ...  Jakarta Selatan   \n4  Kantor Bersama Samsat Jakarta Timur, Lantai 4,...    Jakarta Timur   \n\n                       email       telepon           fax   latitude  \\\n0     sudin.jakpus@gmail.com  021-3865612    021-3518893  -6.178009   \n1  pajaksudinbarat@gmail.com  021-58357709  021-58357709  -6.153667   \n2      sbprd.utara@gmail.com   021-4358788   021-4358788  -6.120681   \n3    sbprd.selatan@gmail.com   021-7226350   021-7206910  -6.247697   \n4  sudinpajaktimur@gmail.com   021-8199831           NaN  -6.229624   \n\n    longitude  \n0  106.818561  \n1  106.738311  \n2  106.892289  \n3  106.807775  \n4  106.877030  ",
      "text/html": "<div>\n<style scoped>\n    .dataframe tbody tr th:only-of-type {\n        vertical-align: middle;\n    }\n\n    .dataframe tbody tr th {\n        vertical-align: top;\n    }\n\n    .dataframe thead th {\n        text-align: right;\n    }\n</style>\n<table border=\"1\" class=\"dataframe\">\n  <thead>\n    <tr style=\"text-align: right;\">\n      <th></th>\n      <th>unit</th>\n      <th>alamat</th>\n      <th>wilayah</th>\n      <th>email</th>\n      <th>telepon</th>\n      <th>fax</th>\n      <th>latitude</th>\n      <th>longitude</th>\n    </tr>\n  </thead>\n  <tbody>\n    <tr>\n      <th>0</th>\n      <td>Suban PRD Jakarta Pusat</td>\n      <td>Gedung Dinas Teknis Abdul Muis, Lantai 2, Jl. ...</td>\n      <td>Jakarta Pusat</td>\n      <td>sudin.jakpus@gmail.com</td>\n      <td>021-3865612</td>\n      <td>021-3518893</td>\n      <td>-6.178009</td>\n      <td>106.818561</td>\n    </tr>\n    <tr>\n      <th>1</th>\n      <td>Suban PRD Jakarta Barat</td>\n      <td>Kantor Walikota Jakarta Barat, Gedung B Lantai...</td>\n      <td>Jakarta Barat</td>\n      <td>pajaksudinbarat@gmail.com</td>\n      <td>021-58357709</td>\n      <td>021-58357709</td>\n      <td>-6.153667</td>\n      <td>106.738311</td>\n    </tr>\n    <tr>\n      <th>2</th>\n      <td>Suban PRD Jakarta Utara dan Kabupaten Kepulaua...</td>\n      <td>Kantor Walikota Administrasi Jakarta Utara, Ge...</td>\n      <td>Jakarta Utara</td>\n      <td>sbprd.utara@gmail.com</td>\n      <td>021-4358788</td>\n      <td>021-4358788</td>\n      <td>-6.120681</td>\n      <td>106.892289</td>\n    </tr>\n    <tr>\n      <th>3</th>\n      <td>Suban PRD Jakarta Selatan</td>\n      <td>Kantor Walikota Administrasi Jakarta Selatan, ...</td>\n      <td>Jakarta Selatan</td>\n      <td>sbprd.selatan@gmail.com</td>\n      <td>021-7226350</td>\n      <td>021-7206910</td>\n      <td>-6.247697</td>\n      <td>106.807775</td>\n    </tr>\n    <tr>\n      <th>4</th>\n      <td>Suban PRD Jakarta Timur</td>\n      <td>Kantor Bersama Samsat Jakarta Timur, Lantai 4,...</td>\n      <td>Jakarta Timur</td>\n      <td>sudinpajaktimur@gmail.com</td>\n      <td>021-8199831</td>\n      <td>NaN</td>\n      <td>-6.229624</td>\n      <td>106.877030</td>\n    </tr>\n  </tbody>\n</table>\n</div>"
     },
     "metadata": {},
     "execution_count": 19
    }
   ],
   "source": [
    "df_final = pd.read_csv('data1.csv', encoding='latin-1')\n",
    "df_final.head()"
   ]
  },
  {
   "cell_type": "code",
   "execution_count": 20,
   "metadata": {},
   "outputs": [],
   "source": [
    " #addreference\n",
    "doc_idx = 2\n",
    "while doc_idx <= len(df_final.columns):\n",
    "    df_final.insert(doc_idx, \"#-%d\"%doc_idx, \"\\\"\\\"\\\"\\\"\" + \"www.data.jakarta.go.id\" + \"\\\"\")\n",
    "    doc_idx += 2\n",
    "#All reference column (#-<idx>) should be formatted to \"#\" to match QS\n",
    "cols_cleaning_reference = [\"S248\" if \"#-\" in col else col for col in df_final.columns]\n",
    "df_final.columns = cols_cleaning_reference"
   ]
  },
  {
   "cell_type": "code",
   "execution_count": 21,
   "metadata": {},
   "outputs": [
    {
     "output_type": "execute_result",
     "data": {
      "text/plain": "                                                unit  \\\n0                            Suban PRD Jakarta Pusat   \n1                            Suban PRD Jakarta Barat   \n2  Suban PRD Jakarta Utara dan Kabupaten Kepulaua...   \n3                          Suban PRD Jakarta Selatan   \n4                            Suban PRD Jakarta Timur   \n\n                                              alamat  \\\n0  Gedung Dinas Teknis Abdul Muis, Lantai 2, Jl. ...   \n1  Kantor Walikota Jakarta Barat, Gedung B Lantai...   \n2  Kantor Walikota Administrasi Jakarta Utara, Ge...   \n3  Kantor Walikota Administrasi Jakarta Selatan, ...   \n4  Kantor Bersama Samsat Jakarta Timur, Lantai 4,...   \n\n                          S248          wilayah                         S248  \\\n0  \"\"\"\"www.data.jakarta.go.id\"    Jakarta Pusat  \"\"\"\"www.data.jakarta.go.id\"   \n1  \"\"\"\"www.data.jakarta.go.id\"    Jakarta Barat  \"\"\"\"www.data.jakarta.go.id\"   \n2  \"\"\"\"www.data.jakarta.go.id\"    Jakarta Utara  \"\"\"\"www.data.jakarta.go.id\"   \n3  \"\"\"\"www.data.jakarta.go.id\"  Jakarta Selatan  \"\"\"\"www.data.jakarta.go.id\"   \n4  \"\"\"\"www.data.jakarta.go.id\"    Jakarta Timur  \"\"\"\"www.data.jakarta.go.id\"   \n\n                       email                         S248       telepon  \\\n0     sudin.jakpus@gmail.com  \"\"\"\"www.data.jakarta.go.id\"  021-3865612    \n1  pajaksudinbarat@gmail.com  \"\"\"\"www.data.jakarta.go.id\"  021-58357709   \n2      sbprd.utara@gmail.com  \"\"\"\"www.data.jakarta.go.id\"   021-4358788   \n3    sbprd.selatan@gmail.com  \"\"\"\"www.data.jakarta.go.id\"   021-7226350   \n4  sudinpajaktimur@gmail.com  \"\"\"\"www.data.jakarta.go.id\"   021-8199831   \n\n                          S248           fax                         S248  \\\n0  \"\"\"\"www.data.jakarta.go.id\"   021-3518893  \"\"\"\"www.data.jakarta.go.id\"   \n1  \"\"\"\"www.data.jakarta.go.id\"  021-58357709  \"\"\"\"www.data.jakarta.go.id\"   \n2  \"\"\"\"www.data.jakarta.go.id\"   021-4358788  \"\"\"\"www.data.jakarta.go.id\"   \n3  \"\"\"\"www.data.jakarta.go.id\"   021-7206910  \"\"\"\"www.data.jakarta.go.id\"   \n4  \"\"\"\"www.data.jakarta.go.id\"           NaN  \"\"\"\"www.data.jakarta.go.id\"   \n\n    latitude                         S248   longitude  \\\n0  -6.178009  \"\"\"\"www.data.jakarta.go.id\"  106.818561   \n1  -6.153667  \"\"\"\"www.data.jakarta.go.id\"  106.738311   \n2  -6.120681  \"\"\"\"www.data.jakarta.go.id\"  106.892289   \n3  -6.247697  \"\"\"\"www.data.jakarta.go.id\"  106.807775   \n4  -6.229624  \"\"\"\"www.data.jakarta.go.id\"  106.877030   \n\n                          S248  \n0  \"\"\"\"www.data.jakarta.go.id\"  \n1  \"\"\"\"www.data.jakarta.go.id\"  \n2  \"\"\"\"www.data.jakarta.go.id\"  \n3  \"\"\"\"www.data.jakarta.go.id\"  \n4  \"\"\"\"www.data.jakarta.go.id\"  ",
      "text/html": "<div>\n<style scoped>\n    .dataframe tbody tr th:only-of-type {\n        vertical-align: middle;\n    }\n\n    .dataframe tbody tr th {\n        vertical-align: top;\n    }\n\n    .dataframe thead th {\n        text-align: right;\n    }\n</style>\n<table border=\"1\" class=\"dataframe\">\n  <thead>\n    <tr style=\"text-align: right;\">\n      <th></th>\n      <th>unit</th>\n      <th>alamat</th>\n      <th>S248</th>\n      <th>wilayah</th>\n      <th>S248</th>\n      <th>email</th>\n      <th>S248</th>\n      <th>telepon</th>\n      <th>S248</th>\n      <th>fax</th>\n      <th>S248</th>\n      <th>latitude</th>\n      <th>S248</th>\n      <th>longitude</th>\n      <th>S248</th>\n    </tr>\n  </thead>\n  <tbody>\n    <tr>\n      <th>0</th>\n      <td>Suban PRD Jakarta Pusat</td>\n      <td>Gedung Dinas Teknis Abdul Muis, Lantai 2, Jl. ...</td>\n      <td>\"\"\"\"www.data.jakarta.go.id\"</td>\n      <td>Jakarta Pusat</td>\n      <td>\"\"\"\"www.data.jakarta.go.id\"</td>\n      <td>sudin.jakpus@gmail.com</td>\n      <td>\"\"\"\"www.data.jakarta.go.id\"</td>\n      <td>021-3865612</td>\n      <td>\"\"\"\"www.data.jakarta.go.id\"</td>\n      <td>021-3518893</td>\n      <td>\"\"\"\"www.data.jakarta.go.id\"</td>\n      <td>-6.178009</td>\n      <td>\"\"\"\"www.data.jakarta.go.id\"</td>\n      <td>106.818561</td>\n      <td>\"\"\"\"www.data.jakarta.go.id\"</td>\n    </tr>\n    <tr>\n      <th>1</th>\n      <td>Suban PRD Jakarta Barat</td>\n      <td>Kantor Walikota Jakarta Barat, Gedung B Lantai...</td>\n      <td>\"\"\"\"www.data.jakarta.go.id\"</td>\n      <td>Jakarta Barat</td>\n      <td>\"\"\"\"www.data.jakarta.go.id\"</td>\n      <td>pajaksudinbarat@gmail.com</td>\n      <td>\"\"\"\"www.data.jakarta.go.id\"</td>\n      <td>021-58357709</td>\n      <td>\"\"\"\"www.data.jakarta.go.id\"</td>\n      <td>021-58357709</td>\n      <td>\"\"\"\"www.data.jakarta.go.id\"</td>\n      <td>-6.153667</td>\n      <td>\"\"\"\"www.data.jakarta.go.id\"</td>\n      <td>106.738311</td>\n      <td>\"\"\"\"www.data.jakarta.go.id\"</td>\n    </tr>\n    <tr>\n      <th>2</th>\n      <td>Suban PRD Jakarta Utara dan Kabupaten Kepulaua...</td>\n      <td>Kantor Walikota Administrasi Jakarta Utara, Ge...</td>\n      <td>\"\"\"\"www.data.jakarta.go.id\"</td>\n      <td>Jakarta Utara</td>\n      <td>\"\"\"\"www.data.jakarta.go.id\"</td>\n      <td>sbprd.utara@gmail.com</td>\n      <td>\"\"\"\"www.data.jakarta.go.id\"</td>\n      <td>021-4358788</td>\n      <td>\"\"\"\"www.data.jakarta.go.id\"</td>\n      <td>021-4358788</td>\n      <td>\"\"\"\"www.data.jakarta.go.id\"</td>\n      <td>-6.120681</td>\n      <td>\"\"\"\"www.data.jakarta.go.id\"</td>\n      <td>106.892289</td>\n      <td>\"\"\"\"www.data.jakarta.go.id\"</td>\n    </tr>\n    <tr>\n      <th>3</th>\n      <td>Suban PRD Jakarta Selatan</td>\n      <td>Kantor Walikota Administrasi Jakarta Selatan, ...</td>\n      <td>\"\"\"\"www.data.jakarta.go.id\"</td>\n      <td>Jakarta Selatan</td>\n      <td>\"\"\"\"www.data.jakarta.go.id\"</td>\n      <td>sbprd.selatan@gmail.com</td>\n      <td>\"\"\"\"www.data.jakarta.go.id\"</td>\n      <td>021-7226350</td>\n      <td>\"\"\"\"www.data.jakarta.go.id\"</td>\n      <td>021-7206910</td>\n      <td>\"\"\"\"www.data.jakarta.go.id\"</td>\n      <td>-6.247697</td>\n      <td>\"\"\"\"www.data.jakarta.go.id\"</td>\n      <td>106.807775</td>\n      <td>\"\"\"\"www.data.jakarta.go.id\"</td>\n    </tr>\n    <tr>\n      <th>4</th>\n      <td>Suban PRD Jakarta Timur</td>\n      <td>Kantor Bersama Samsat Jakarta Timur, Lantai 4,...</td>\n      <td>\"\"\"\"www.data.jakarta.go.id\"</td>\n      <td>Jakarta Timur</td>\n      <td>\"\"\"\"www.data.jakarta.go.id\"</td>\n      <td>sudinpajaktimur@gmail.com</td>\n      <td>\"\"\"\"www.data.jakarta.go.id\"</td>\n      <td>021-8199831</td>\n      <td>\"\"\"\"www.data.jakarta.go.id\"</td>\n      <td>NaN</td>\n      <td>\"\"\"\"www.data.jakarta.go.id\"</td>\n      <td>-6.229624</td>\n      <td>\"\"\"\"www.data.jakarta.go.id\"</td>\n      <td>106.877030</td>\n      <td>\"\"\"\"www.data.jakarta.go.id\"</td>\n    </tr>\n  </tbody>\n</table>\n</div>"
     },
     "metadata": {},
     "execution_count": 21
    }
   ],
   "source": [
    "df_final.head()"
   ]
  },
  {
   "cell_type": "code",
   "execution_count": null,
   "metadata": {},
   "outputs": [],
   "source": []
  }
 ],
 "metadata": {
  "language_info": {
   "codemirror_mode": {
    "name": "ipython",
    "version": 3
   },
   "file_extension": ".py",
   "mimetype": "text/x-python",
   "name": "python",
   "nbconvert_exporter": "python",
   "pygments_lexer": "ipython3",
   "version": "3.7.3-final"
  },
  "orig_nbformat": 2,
  "kernelspec": {
   "name": "python37364bitbb760e31327a443eaa19e35b2b78b4ce",
   "display_name": "Python 3.7.3 64-bit"
  }
 },
 "nbformat": 4,
 "nbformat_minor": 2
}