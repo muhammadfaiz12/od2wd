{
 "cells": [
  {
   "cell_type": "code",
   "execution_count": 1,
   "metadata": {},
   "outputs": [],
   "source": [
    "import pandas as pd"
   ]
  },
  {
   "cell_type": "code",
   "execution_count": 19,
   "metadata": {},
   "outputs": [
    {
     "output_type": "execute_result",
     "data": {
      "text/plain": "                                                unit  \\\n0                            Suban PRD Jakarta Pusat   \n1                            Suban PRD Jakarta Barat   \n2  Suban PRD Jakarta Utara dan Kabupaten Kepulaua...   \n3                          Suban PRD Jakarta Selatan   \n4                            Suban PRD Jakarta Timur   \n\n                                              alamat          wilayah  \\\n0  Gedung Dinas Teknis Abdul Muis, Lantai 2, Jl. ...    Jakarta Pusat   \n1  Kantor Walikota Jakarta Barat, Gedung B Lantai...    Jakarta Barat   \n2  Kantor Walikota Administrasi Jakarta Utara, Ge...    Jakarta Utara   \n3  Kantor Walikota Administrasi Jakarta Selatan, ...  Jakarta Selatan   \n4  Kantor Bersama Samsat Jakarta Timur, Lantai 4,...    Jakarta Timur   \n\n                       email       telepon           fax   latitude  \\\n0     sudin.jakpus@gmail.com  021-3865612    021-3518893  -6.178009   \n1  pajaksudinbarat@gmail.com  021-58357709  021-58357709  -6.153667   \n2      sbprd.utara@gmail.com   021-4358788   021-4358788  -6.120681   \n3    sbprd.selatan@gmail.com   021-7226350   021-7206910  -6.247697   \n4  sudinpajaktimur@gmail.com   021-8199831           NaN  -6.229624   \n\n    longitude  \n0  106.818561  \n1  106.738311  \n2  106.892289  \n3  106.807775  \n4  106.877030  ",
      "text/html": "<div>\n<style scoped>\n    .dataframe tbody tr th:only-of-type {\n        vertical-align: middle;\n    }\n\n    .dataframe tbody tr th {\n        vertical-align: top;\n    }\n\n    .dataframe thead th {\n        text-align: right;\n    }\n</style>\n<table border=\"1\" class=\"dataframe\">\n  <thead>\n    <tr style=\"text-align: right;\">\n      <th></th>\n      <th>unit</th>\n      <th>alamat</th>\n      <th>wilayah</th>\n      <th>email</th>\n      <th>telepon</th>\n      <th>fax</th>\n      <th>latitude</th>\n      <th>longitude</th>\n    </tr>\n  </thead>\n  <tbody>\n    <tr>\n      <th>0</th>\n      <td>Suban PRD Jakarta Pusat</td>\n      <td>Gedung Dinas Teknis Abdul Muis, Lantai 2, Jl. ...</td>\n      <td>Jakarta Pusat</td>\n      <td>sudin.jakpus@gmail.com</td>\n      <td>021-3865612</td>\n      <td>021-3518893</td>\n      <td>-6.178009</td>\n      <td>106.818561</td>\n    </tr>\n    <tr>\n      <th>1</th>\n      <td>Suban PRD Jakarta Barat</td>\n      <td>Kantor Walikota Jakarta Barat, Gedung B Lantai...</td>\n      <td>Jakarta Barat</td>\n      <td>pajaksudinbarat@gmail.com</td>\n      <td>021-58357709</td>\n      <td>021-58357709</td>\n      <td>-6.153667</td>\n      <td>106.738311</td>\n    </tr>\n    <tr>\n      <th>2</th>\n      <td>Suban PRD Jakarta Utara dan Kabupaten Kepulaua...</td>\n      <td>Kantor Walikota Administrasi Jakarta Utara, Ge...</td>\n      <td>Jakarta Utara</td>\n      <td>sbprd.utara@gmail.com</td>\n      <td>021-4358788</td>\n      <td>021-4358788</td>\n      <td>-6.120681</td>\n      <td>106.892289</td>\n    </tr>\n    <tr>\n      <th>3</th>\n      <td>Suban PRD Jakarta Selatan</td>\n      <td>Kantor Walikota Administrasi Jakarta Selatan, ...</td>\n      <td>Jakarta Selatan</td>\n      <td>sbprd.selatan@gmail.com</td>\n      <td>021-7226350</td>\n      <td>021-7206910</td>\n      <td>-6.247697</td>\n      <td>106.807775</td>\n    </tr>\n    <tr>\n      <th>4</th>\n      <td>Suban PRD Jakarta Timur</td>\n      <td>Kantor Bersama Samsat Jakarta Timur, Lantai 4,...</td>\n      <td>Jakarta Timur</td>\n      <td>sudinpajaktimur@gmail.com</td>\n      <td>021-8199831</td>\n      <td>NaN</td>\n      <td>-6.229624</td>\n      <td>106.877030</td>\n    </tr>\n  </tbody>\n</table>\n</div>"
     },
     "metadata": {},
     "execution_count": 19
    }
   ],
   "source": [
    "df_final = pd.read_csv('data1.csv', encoding='latin-1')\n",
    "df_final.head()"
   ]
  },
  {
   "cell_type": "code",
   "execution_count": 20,
   "metadata": {},
   "outputs": [],
   "source": [
    " #addreference\n",
    "doc_idx = 2\n",
    "while doc_idx <= len(df_final.columns):\n",
    "    df_final.insert(doc_idx, \"#-%d\"%doc_idx, \"\\\"\\\"\\\"\\\"\" + \"www.data.jakarta.go.id\" + \"\\\"\")\n",
    "    doc_idx += 2\n",
    "#All reference column (#-<idx>) should be formatted to \"#\" to match QS\n",
    "cols_cleaning_reference = [\"S248\" if \"#-\" in col else col for col in df_final.columns]\n",
    "df_final.columns = cols_cleaning_reference"
   ]
  },
  {
   "cell_type": "code",
   "execution_count": 21,
   "metadata": {},
   "outputs": [
    {
     "output_type": "execute_result",
     "data": {
      "text/plain": "                                                unit  \\\n0                            Suban PRD Jakarta Pusat   \n1                            Suban PRD Jakarta Barat   \n2  Suban PRD Jakarta Utara dan Kabupaten Kepulaua...   \n3                          Suban PRD Jakarta Selatan   \n4                            Suban PRD Jakarta Timur   \n\n                                              alamat  \\\n0  Gedung Dinas Teknis Abdul Muis, Lantai 2, Jl. ...   \n1  Kantor Walikota Jakarta Barat, Gedung B Lantai...   \n2  Kantor Walikota Administrasi Jakarta Utara, Ge...   \n3  Kantor Walikota Administrasi Jakarta Selatan, ...   \n4  Kantor Bersama Samsat Jakarta Timur, Lantai 4,...   \n\n                          S248          wilayah                         S248  \\\n0  \"\"\"\"www.data.jakarta.go.id\"    Jakarta Pusat  \"\"\"\"www.data.jakarta.go.id\"   \n1  \"\"\"\"www.data.jakarta.go.id\"    Jakarta Barat  \"\"\"\"www.data.jakarta.go.id\"   \n2  \"\"\"\"www.data.jakarta.go.id\"    Jakarta Utara  \"\"\"\"www.data.jakarta.go.id\"   \n3  \"\"\"\"www.data.jakarta.go.id\"  Jakarta Selatan  \"\"\"\"www.data.jakarta.go.id\"   \n4  \"\"\"\"www.data.jakarta.go.id\"    Jakarta Timur  \"\"\"\"www.data.jakarta.go.id\"   \n\n                       email                         S248       telepon  \\\n0     sudin.jakpus@gmail.com  \"\"\"\"www.data.jakarta.go.id\"  021-3865612    \n1  pajaksudinbarat@gmail.com  \"\"\"\"www.data.jakarta.go.id\"  021-58357709   \n2      sbprd.utara@gmail.com  \"\"\"\"www.data.jakarta.go.id\"   021-4358788   \n3    sbprd.selatan@gmail.com  \"\"\"\"www.data.jakarta.go.id\"   021-7226350   \n4  sudinpajaktimur@gmail.com  \"\"\"\"www.data.jakarta.go.id\"   021-8199831   \n\n                          S248           fax                         S248  \\\n0  \"\"\"\"www.data.jakarta.go.id\"   021-3518893  \"\"\"\"www.data.jakarta.go.id\"   \n1  \"\"\"\"www.data.jakarta.go.id\"  021-58357709  \"\"\"\"www.data.jakarta.go.id\"   \n2  \"\"\"\"www.data.jakarta.go.id\"   021-4358788  \"\"\"\"www.data.jakarta.go.id\"   \n3  \"\"\"\"www.data.jakarta.go.id\"   021-7206910  \"\"\"\"www.data.jakarta.go.id\"   \n4  \"\"\"\"www.data.jakarta.go.id\"           NaN  \"\"\"\"www.data.jakarta.go.id\"   \n\n    latitude                         S248   longitude  \\\n0  -6.178009  \"\"\"\"www.data.jakarta.go.id\"  106.818561   \n1  -6.153667  \"\"\"\"www.data.jakarta.go.id\"  106.738311   \n2  -6.120681  \"\"\"\"www.data.jakarta.go.id\"  106.892289   \n3  -6.247697  \"\"\"\"www.data.jakarta.go.id\"  106.807775   \n4  -6.229624  \"\"\"\"www.data.jakarta.go.id\"  106.877030   \n\n                          S248  \n0  \"\"\"\"www.data.jakarta.go.id\"  \n1  \"\"\"\"www.data.jakarta.go.id\"  \n2  \"\"\"\"www.data.jakarta.go.id\"  \n3  \"\"\"\"www.data.jakarta.go.id\"  \n4  \"\"\"\"www.data.jakarta.go.id\"  ",
      "text/html": "<div>\n<style scoped>\n    .dataframe tbody tr th:only-of-type {\n        vertical-align: middle;\n    }\n\n    .dataframe tbody tr th {\n        vertical-align: top;\n    }\n\n    .dataframe thead th {\n        text-align: right;\n    }\n</style>\n<table border=\"1\" class=\"dataframe\">\n  <thead>\n    <tr style=\"text-align: right;\">\n      <th></th>\n      <th>unit</th>\n      <th>alamat</th>\n      <th>S248</th>\n      <th>wilayah</th>\n      <th>S248</th>\n      <th>email</th>\n      <th>S248</th>\n      <th>telepon</th>\n      <th>S248</th>\n      <th>fax</th>\n      <th>S248</th>\n      <th>latitude</th>\n      <th>S248</th>\n      <th>longitude</th>\n      <th>S248</th>\n    </tr>\n  </thead>\n  <tbody>\n    <tr>\n      <th>0</th>\n      <td>Suban PRD Jakarta Pusat</td>\n      <td>Gedung Dinas Teknis Abdul Muis, Lantai 2, Jl. ...</td>\n      <td>\"\"\"\"www.data.jakarta.go.id\"</td>\n      <td>Jakarta Pusat</td>\n      <td>\"\"\"\"www.data.jakarta.go.id\"</td>\n      <td>sudin.jakpus@gmail.com</td>\n      <td>\"\"\"\"www.data.jakarta.go.id\"</td>\n      <td>021-3865612</td>\n      <td>\"\"\"\"www.data.jakarta.go.id\"</td>\n      <td>021-3518893</td>\n      <td>\"\"\"\"www.data.jakarta.go.id\"</td>\n      <td>-6.178009</td>\n      <td>\"\"\"\"www.data.jakarta.go.id\"</td>\n      <td>106.818561</td>\n      <td>\"\"\"\"www.data.jakarta.go.id\"</td>\n    </tr>\n    <tr>\n      <th>1</th>\n      <td>Suban PRD Jakarta Barat</td>\n      <td>Kantor Walikota Jakarta Barat, Gedung B Lantai...</td>\n      <td>\"\"\"\"www.data.jakarta.go.id\"</td>\n      <td>Jakarta Barat</td>\n      <td>\"\"\"\"www.data.jakarta.go.id\"</td>\n      <td>pajaksudinbarat@gmail.com</td>\n      <td>\"\"\"\"www.data.jakarta.go.id\"</td>\n      <td>021-58357709</td>\n      <td>\"\"\"\"www.data.jakarta.go.id\"</td>\n      <td>021-58357709</td>\n      <td>\"\"\"\"www.data.jakarta.go.id\"</td>\n      <td>-6.153667</td>\n      <td>\"\"\"\"www.data.jakarta.go.id\"</td>\n      <td>106.738311</td>\n      <td>\"\"\"\"www.data.jakarta.go.id\"</td>\n    </tr>\n    <tr>\n      <th>2</th>\n      <td>Suban PRD Jakarta Utara dan Kabupaten Kepulaua...</td>\n      <td>Kantor Walikota Administrasi Jakarta Utara, Ge...</td>\n      <td>\"\"\"\"www.data.jakarta.go.id\"</td>\n      <td>Jakarta Utara</td>\n      <td>\"\"\"\"www.data.jakarta.go.id\"</td>\n      <td>sbprd.utara@gmail.com</td>\n      <td>\"\"\"\"www.data.jakarta.go.id\"</td>\n      <td>021-4358788</td>\n      <td>\"\"\"\"www.data.jakarta.go.id\"</td>\n      <td>021-4358788</td>\n      <td>\"\"\"\"www.data.jakarta.go.id\"</td>\n      <td>-6.120681</td>\n      <td>\"\"\"\"www.data.jakarta.go.id\"</td>\n      <td>106.892289</td>\n      <td>\"\"\"\"www.data.jakarta.go.id\"</td>\n    </tr>\n    <tr>\n      <th>3</th>\n      <td>Suban PRD Jakarta Selatan</td>\n      <td>Kantor Walikota Administrasi Jakarta Selatan, ...</td>\n      <td>\"\"\"\"www.data.jakarta.go.id\"</td>\n      <td>Jakarta Selatan</td>\n      <td>\"\"\"\"www.data.jakarta.go.id\"</td>\n      <td>sbprd.selatan@gmail.com</td>\n      <td>\"\"\"\"www.data.jakarta.go.id\"</td>\n      <td>021-7226350</td>\n      <td>\"\"\"\"www.data.jakarta.go.id\"</td>\n      <td>021-7206910</td>\n      <td>\"\"\"\"www.data.jakarta.go.id\"</td>\n      <td>-6.247697</td>\n      <td>\"\"\"\"www.data.jakarta.go.id\"</td>\n      <td>106.807775</td>\n      <td>\"\"\"\"www.data.jakarta.go.id\"</td>\n    </tr>\n    <tr>\n      <th>4</th>\n      <td>Suban PRD Jakarta Timur</td>\n      <td>Kantor Bersama Samsat Jakarta Timur, Lantai 4,...</td>\n      <td>\"\"\"\"www.data.jakarta.go.id\"</td>\n      <td>Jakarta Timur</td>\n      <td>\"\"\"\"www.data.jakarta.go.id\"</td>\n      <td>sudinpajaktimur@gmail.com</td>\n      <td>\"\"\"\"www.data.jakarta.go.id\"</td>\n      <td>021-8199831</td>\n      <td>\"\"\"\"www.data.jakarta.go.id\"</td>\n      <td>NaN</td>\n      <td>\"\"\"\"www.data.jakarta.go.id\"</td>\n      <td>-6.229624</td>\n      <td>\"\"\"\"www.data.jakarta.go.id\"</td>\n      <td>106.877030</td>\n      <td>\"\"\"\"www.data.jakarta.go.id\"</td>\n    </tr>\n  </tbody>\n</table>\n</div>"
     },
     "metadata": {},
     "execution_count": 21
    }
   ],
   "source": [
    "df_final.head()"
   ]
  },
  {
   "cell_type": "code",
   "execution_count": 1,
   "metadata": {},
   "outputs": [],
   "source": [
    "import requests, json\n",
    "base_url = \"http://data.jakarta.go.id/api/3/action/package_search\"\n",
    "params = {}\n",
    "params['q']=\"puskesmas\"\n",
    "response = requests.get(url=base_url, params=params)\n",
    "json_data = json.loads(response.text)"
   ]
  },
  {
   "cell_type": "code",
   "execution_count": 2,
   "metadata": {},
   "outputs": [
    {
     "output_type": "execute_result",
     "data": {
      "text/plain": "40"
     },
     "metadata": {},
     "execution_count": 2
    }
   ],
   "source": [
    "len(json_data['result']['results'][0].keys())"
   ]
  },
  {
   "cell_type": "code",
   "execution_count": 3,
   "metadata": {},
   "outputs": [],
   "source": [
    "jakarta1 = json_data['result']['results'][0].keys()\n",
    "jakarta2 = json_data['result']['results'][2].keys()"
   ]
  },
  {
   "cell_type": "code",
   "execution_count": 7,
   "metadata": {
    "tags": []
   },
   "outputs": [
    {
     "output_type": "stream",
     "name": "stdout",
     "text": "=======\nkomentar\n"
    }
   ],
   "source": [
    "for ys in jakarta1:\n",
    "    if ys not in jakarta2:\n",
    "        print(ys)\n",
    "print(\"=======\")\n",
    "for xs in jakarta2:\n",
    "    if xs not in jakarta1:\n",
    "        print(xs)\n"
   ]
  },
  {
   "cell_type": "code",
   "execution_count": 6,
   "metadata": {},
   "outputs": [],
   "source": [
    "#Notables are tags, name, cakupan\n"
   ]
  },
  {
   "cell_type": "code",
   "execution_count": 8,
   "metadata": {},
   "outputs": [
    {
     "output_type": "execute_result",
     "data": {
      "text/plain": "'Data Jumlah Puskesmas Inap Di Jakarta'"
     },
     "metadata": {},
     "execution_count": 8
    }
   ],
   "source": [
    "x = json_data['result']['results'][0]\n",
    "x['tags']"
   ]
  },
  {
   "cell_type": "code",
   "execution_count": 8,
   "metadata": {},
   "outputs": [
    {
     "output_type": "execute_result",
     "data": {
      "text/plain": "'jumlahpuskesmasinapdijakarta'"
     },
     "metadata": {},
     "execution_count": 8
    }
   ],
   "source": [
    "x['name']"
   ]
  },
  {
   "cell_type": "code",
   "execution_count": 9,
   "metadata": {},
   "outputs": [
    {
     "output_type": "execute_result",
     "data": {
      "text/plain": "'Provinsi DKI Jakarta'"
     },
     "metadata": {},
     "execution_count": 9
    }
   ],
   "source": [
    "x['cakupan']"
   ]
  },
  {
   "cell_type": "code",
   "execution_count": 10,
   "metadata": {
    "tags": []
   },
   "outputs": [
    {
     "output_type": "stream",
     "name": "stdout",
     "text": "======\n"
    }
   ],
   "source": [
    "print(\"======\")"
   ]
  },
  {
   "cell_type": "code",
   "execution_count": 30,
   "metadata": {},
   "outputs": [],
   "source": [
    "import requests, json\n",
    "base_url = \"http://data.bandung.go.id/api/3/action/package_search\"\n",
    "params = {}\n",
    "params['q']=\"puskesmas\"\n",
    "response = requests.get(url=base_url, params=params)\n",
    "json_data_bd = json.loads(response.text)"
   ]
  },
  {
   "cell_type": "code",
   "execution_count": 31,
   "metadata": {},
   "outputs": [],
   "source": [
    "bandung1 = json_data_bd['result']['results'][0].keys()\n",
    "bandung2 = json_data_bd['result']['results'][2].keys()"
   ]
  },
  {
   "cell_type": "code",
   "execution_count": 32,
   "metadata": {},
   "outputs": [
    {
     "output_type": "execute_result",
     "data": {
      "text/plain": "dict_keys(['license_title', 'maintainer', 'relationships_as_object', 'private', 'maintainer_email', 'num_tags', 'id', 'metadata_created', 'metadata_modified', 'author', 'author_email', 'state', 'version', 'creator_user_id', 'type', 'resources', 'num_resources', 'tags', 'groups', 'license_id', 'relationships_as_subject', 'organization', 'name', 'isopen', 'url', 'notes', 'owner_org', 'extras', 'license_url', 'title', 'revision_id'])"
     },
     "metadata": {},
     "execution_count": 32
    }
   ],
   "source": [
    "bandung1"
   ]
  },
  {
   "cell_type": "code",
   "execution_count": 14,
   "metadata": {
    "tags": []
   },
   "outputs": [
    {
     "output_type": "stream",
     "name": "stdout",
     "text": "==========\n"
    }
   ],
   "source": [
    "for x in bandung1:\n",
    "    if x not in bandung2:\n",
    "        print(x)\n",
    "print(\"==========\")\n",
    "for x in bandung2:\n",
    "    if x not in bandung2:\n",
    "        print(x)"
   ]
  },
  {
   "cell_type": "code",
   "execution_count": 15,
   "metadata": {
    "tags": []
   },
   "outputs": [
    {
     "output_type": "stream",
     "name": "stdout",
     "text": "extras\n==========\nkontak\nrujukan\nBAPPEDA_OTHEN\nfrekuensi_penerbitan\ntracking_summary\ntahun\nlevel_penyajian\ncakupan\nSKPD_AUTH\nkomentar\nsumber\n"
    }
   ],
   "source": [
    "for x in bandung1:\n",
    "    if x not in jakarta2:\n",
    "        print(x)\n",
    "print(\"==========\")\n",
    "for x in jakarta2:\n",
    "    if x not in bandung1:\n",
    "        print(x)"
   ]
  },
  {
   "cell_type": "code",
   "execution_count": 16,
   "metadata": {},
   "outputs": [],
   "source": [
    "#notables"
   ]
  },
  {
   "cell_type": "code",
   "execution_count": 18,
   "metadata": {},
   "outputs": [
    {
     "output_type": "execute_result",
     "data": {
      "text/plain": "[{'vocabulary_id': None,\n  'state': 'active',\n  'display_name': 'kesehatan',\n  'id': '45a0ada8-0462-415c-8444-ff9b4a9ac236',\n  'name': 'kesehatan'},\n {'vocabulary_id': None,\n  'state': 'active',\n  'display_name': 'puskesmas',\n  'id': '6e75001c-5d66-4863-ad72-062d3605a3a0',\n  'name': 'puskesmas'}]"
     },
     "metadata": {},
     "execution_count": 18
    }
   ],
   "source": [
    "#tags\n",
    "bandung=json_data_bd['result']['results'][0]\n",
    "bandung['tags']"
   ]
  },
  {
   "cell_type": "code",
   "execution_count": 19,
   "metadata": {},
   "outputs": [
    {
     "output_type": "execute_result",
     "data": {
      "text/plain": "'puskesmas-di-kota-bandung'"
     },
     "metadata": {},
     "execution_count": 19
    }
   ],
   "source": [
    "bandung['name']"
   ]
  },
  {
   "cell_type": "code",
   "execution_count": 20,
   "metadata": {},
   "outputs": [
    {
     "output_type": "error",
     "ename": "KeyError",
     "evalue": "'cakupan'",
     "traceback": [
      "\u001b[0;31m---------------------------------------------------------------------------\u001b[0m",
      "\u001b[0;31mKeyError\u001b[0m                                  Traceback (most recent call last)",
      "\u001b[0;32m<ipython-input-20-afa98de5e537>\u001b[0m in \u001b[0;36m<module>\u001b[0;34m\u001b[0m\n\u001b[0;32m----> 1\u001b[0;31m \u001b[0mbandung\u001b[0m\u001b[0;34m[\u001b[0m\u001b[0;34m'cakupan'\u001b[0m\u001b[0;34m]\u001b[0m\u001b[0;34m\u001b[0m\u001b[0;34m\u001b[0m\u001b[0m\n\u001b[0m",
      "\u001b[0;31mKeyError\u001b[0m: 'cakupan'"
     ]
    }
   ],
   "source": [
    "bandung['cakupan']"
   ]
  },
  {
   "cell_type": "code",
   "execution_count": 25,
   "metadata": {},
   "outputs": [],
   "source": [
    "key = 'tags'\n",
    "for x in json_data['result']['results']:\n",
    "    if key not in x.keys():\n",
    "        print(x['name'])"
   ]
  },
  {
   "cell_type": "code",
   "execution_count": 26,
   "metadata": {
    "tags": []
   },
   "outputs": [],
   "source": [
    "for x in json_data_bd['result']['results']:\n",
    "    if key not in x.keys():\n",
    "        print(x['name'])"
   ]
  },
  {
   "cell_type": "code",
   "execution_count": 33,
   "metadata": {},
   "outputs": [],
   "source": [
    "import requests\n",
    "import json\n",
    "parent_api_link=\"https://od2wd.id/api/\"\n",
    "def link_entity_api(item: str, headerValue: str, context=[], limit=3):\n",
    "    payload = {}\n",
    "    body ={}\n",
    "    payload['item']=item\n",
    "    payload['headerValue']=headerValue\n",
    "    payload['contexts']=context\n",
    "    payload['limit']=limit\n",
    "    body['entities']=[payload]\n",
    "    print(\"[PHASE-2], Calling Url for Entity Linking\")\n",
    "    url = \"{}/main/entity\".format(parent_api_link)\n",
    "    response = requests.post(url, json=body)\n",
    "    if response.status_code != 200:\n",
    "        return response.status_code, response.text\n",
    "    #Formatting to extract qid from response, because api response cannot be easily parsed\n",
    "    #think of this as\n",
    "    #qid = response['results'][0][\"item\"][0][\"id\"]\n",
    "    response_body = json.loads(response.text)\n",
    "    qid = response_body['results'][0][\"item\"]\n",
    "    qid = qid.replace(\"{\",\"\").replace(\"}\",\"\").split(\",\")[0].split(\":\")[1].replace(\"'\",\"\").replace(\" \",\"\")\n",
    "    return response.status_code, qid"
   ]
  },
  {
   "cell_type": "code",
   "execution_count": 40,
   "metadata": {
    "tags": []
   },
   "outputs": [
    {
     "output_type": "stream",
     "name": "stdout",
     "text": "[PHASE-2], Calling Url for Entity Linking\nQ6124478\n"
    }
   ],
   "source": [
    "responseCode, response = link_entity_api(\"jakarta\", \"kota\", [\"jakarta\", \" sekolah\"])\n",
    "print(response)"
   ]
  },
  {
   "cell_type": "code",
   "execution_count": 35,
   "metadata": {
    "tags": []
   },
   "outputs": [
    {
     "output_type": "error",
     "ename": "TypeError",
     "evalue": "string indices must be integers",
     "traceback": [
      "\u001b[0;31m---------------------------------------------------------------------------\u001b[0m",
      "\u001b[0;31mTypeError\u001b[0m                                 Traceback (most recent call last)",
      "\u001b[0;32m<ipython-input-35-5e5636dc3e1f>\u001b[0m in \u001b[0;36m<module>\u001b[0;34m\u001b[0m\n\u001b[0;32m----> 1\u001b[0;31m \u001b[0mid\u001b[0m \u001b[0;34m=\u001b[0m \u001b[0mresponse\u001b[0m\u001b[0;34m[\u001b[0m\u001b[0;34m'results'\u001b[0m\u001b[0;34m]\u001b[0m\u001b[0;34m[\u001b[0m\u001b[0;36m0\u001b[0m\u001b[0;34m]\u001b[0m\u001b[0;34m[\u001b[0m\u001b[0;34m\"item\"\u001b[0m\u001b[0;34m]\u001b[0m\u001b[0;34m\u001b[0m\u001b[0;34m\u001b[0m\u001b[0m\n\u001b[0m\u001b[1;32m      2\u001b[0m \u001b[0mid\u001b[0m\u001b[0;34m.\u001b[0m\u001b[0mreplace\u001b[0m\u001b[0;34m(\u001b[0m\u001b[0;34m\"{\"\u001b[0m\u001b[0;34m,\u001b[0m\u001b[0;34m\"\"\u001b[0m\u001b[0;34m)\u001b[0m\u001b[0;34m.\u001b[0m\u001b[0mreplace\u001b[0m\u001b[0;34m(\u001b[0m\u001b[0;34m\"}\"\u001b[0m\u001b[0;34m,\u001b[0m\u001b[0;34m\"\"\u001b[0m\u001b[0;34m)\u001b[0m\u001b[0;34m.\u001b[0m\u001b[0msplit\u001b[0m\u001b[0;34m(\u001b[0m\u001b[0;34m\",\"\u001b[0m\u001b[0;34m)\u001b[0m\u001b[0;34m[\u001b[0m\u001b[0;36m0\u001b[0m\u001b[0;34m]\u001b[0m\u001b[0;34m.\u001b[0m\u001b[0msplit\u001b[0m\u001b[0;34m(\u001b[0m\u001b[0;34m\":\"\u001b[0m\u001b[0;34m)\u001b[0m\u001b[0;34m[\u001b[0m\u001b[0;36m1\u001b[0m\u001b[0;34m]\u001b[0m\u001b[0;34m.\u001b[0m\u001b[0mreplace\u001b[0m\u001b[0;34m(\u001b[0m\u001b[0;34m\"'\"\u001b[0m\u001b[0;34m,\u001b[0m\u001b[0;34m\"\"\u001b[0m\u001b[0;34m)\u001b[0m\u001b[0;34m.\u001b[0m\u001b[0mreplace\u001b[0m\u001b[0;34m(\u001b[0m\u001b[0;34m\" \"\u001b[0m\u001b[0;34m,\u001b[0m\u001b[0;34m\"\"\u001b[0m\u001b[0;34m)\u001b[0m\u001b[0;34m\u001b[0m\u001b[0;34m\u001b[0m\u001b[0m\n",
      "\u001b[0;31mTypeError\u001b[0m: string indices must be integers"
     ]
    }
   ],
   "source": [
    "id = response['results'][0][\"item\"]\n",
    "id.replace(\"{\",\"\").replace(\"}\",\"\").split(\",\")[0].split(\":\")[1].replace(\"'\",\"\").replace(\" \",\"\")"
   ]
  },
  {
   "cell_type": "code",
   "execution_count": 51,
   "metadata": {},
   "outputs": [
    {
     "output_type": "execute_result",
     "data": {
      "text/plain": "  sekolah-[Protagonist-Column] kota-P36-ibu kota\n0                SMA 8 Jakarta           Jakarta\n1                        SMA 1           Jakarta",
      "text/html": "<div>\n<style scoped>\n    .dataframe tbody tr th:only-of-type {\n        vertical-align: middle;\n    }\n\n    .dataframe tbody tr th {\n        vertical-align: top;\n    }\n\n    .dataframe thead th {\n        text-align: right;\n    }\n</style>\n<table border=\"1\" class=\"dataframe\">\n  <thead>\n    <tr style=\"text-align: right;\">\n      <th></th>\n      <th>sekolah-[Protagonist-Column]</th>\n      <th>kota-P36-ibu kota</th>\n    </tr>\n  </thead>\n  <tbody>\n    <tr>\n      <th>0</th>\n      <td>SMA 8 Jakarta</td>\n      <td>Jakarta</td>\n    </tr>\n    <tr>\n      <th>1</th>\n      <td>SMA 1</td>\n      <td>Jakarta</td>\n    </tr>\n  </tbody>\n</table>\n</div>"
     },
     "metadata": {},
     "execution_count": 51
    }
   ],
   "source": [
    "df_l = pd.read_csv('data/linked/7-sekolah-example.csv')\n",
    "df_m = pd.read_csv('data/mapped/7-sekolah-example.csv')\n",
    "df_m.head()"
   ]
  },
  {
   "cell_type": "code",
   "execution_count": 62,
   "metadata": {
    "tags": []
   },
   "outputs": [
    {
     "output_type": "stream",
     "name": "stdout",
     "text": "QNew\nQ6124478\n['P36', 'sekolah']\nIndex(['sekolah-[Protagonist-Column]', 'kota-P36-ibu kota'], dtype='object')\n"
    },
    {
     "output_type": "error",
     "ename": "KeyError",
     "evalue": "'sekolah-[Protagonist]-Q3914-sekolah-institution designed to teach students under the direction of teachers'",
     "traceback": [
      "\u001b[0;31m---------------------------------------------------------------------------\u001b[0m",
      "\u001b[0;31mKeyError\u001b[0m                                  Traceback (most recent call last)",
      "\u001b[0;32m/usr/local/lib/python3.7/site-packages/pandas/core/indexes/base.py\u001b[0m in \u001b[0;36mget_loc\u001b[0;34m(self, key, method, tolerance)\u001b[0m\n\u001b[1;32m   2645\u001b[0m             \u001b[0;32mtry\u001b[0m\u001b[0;34m:\u001b[0m\u001b[0;34m\u001b[0m\u001b[0;34m\u001b[0m\u001b[0m\n\u001b[0;32m-> 2646\u001b[0;31m                 \u001b[0;32mreturn\u001b[0m \u001b[0mself\u001b[0m\u001b[0;34m.\u001b[0m\u001b[0m_engine\u001b[0m\u001b[0;34m.\u001b[0m\u001b[0mget_loc\u001b[0m\u001b[0;34m(\u001b[0m\u001b[0mkey\u001b[0m\u001b[0;34m)\u001b[0m\u001b[0;34m\u001b[0m\u001b[0;34m\u001b[0m\u001b[0m\n\u001b[0m\u001b[1;32m   2647\u001b[0m             \u001b[0;32mexcept\u001b[0m \u001b[0mKeyError\u001b[0m\u001b[0;34m:\u001b[0m\u001b[0;34m\u001b[0m\u001b[0;34m\u001b[0m\u001b[0m\n",
      "\u001b[0;32mpandas/_libs/index.pyx\u001b[0m in \u001b[0;36mpandas._libs.index.IndexEngine.get_loc\u001b[0;34m()\u001b[0m\n",
      "\u001b[0;32mpandas/_libs/index.pyx\u001b[0m in \u001b[0;36mpandas._libs.index.IndexEngine.get_loc\u001b[0;34m()\u001b[0m\n",
      "\u001b[0;32mpandas/_libs/hashtable_class_helper.pxi\u001b[0m in \u001b[0;36mpandas._libs.hashtable.PyObjectHashTable.get_item\u001b[0;34m()\u001b[0m\n",
      "\u001b[0;32mpandas/_libs/hashtable_class_helper.pxi\u001b[0m in \u001b[0;36mpandas._libs.hashtable.PyObjectHashTable.get_item\u001b[0;34m()\u001b[0m\n",
      "\u001b[0;31mKeyError\u001b[0m: 'sekolah-[Protagonist]-Q3914-sekolah-institution designed to teach students under the direction of teachers'",
      "\nDuring handling of the above exception, another exception occurred:\n",
      "\u001b[0;31mKeyError\u001b[0m                                  Traceback (most recent call last)",
      "\u001b[0;32m<ipython-input-62-d58854a86d20>\u001b[0m in \u001b[0;36m<module>\u001b[0;34m\u001b[0m\n\u001b[1;32m     35\u001b[0m \u001b[0;32mwith\u001b[0m \u001b[0mshelve\u001b[0m\u001b[0;34m.\u001b[0m\u001b[0mopen\u001b[0m\u001b[0;34m(\u001b[0m\u001b[0;34m'db/col-db'\u001b[0m\u001b[0;34m)\u001b[0m \u001b[0;32mas\u001b[0m \u001b[0ms\u001b[0m\u001b[0;34m:\u001b[0m\u001b[0;34m\u001b[0m\u001b[0;34m\u001b[0m\u001b[0m\n\u001b[1;32m     36\u001b[0m     \u001b[0ms1\u001b[0m \u001b[0;34m=\u001b[0m \u001b[0ms\u001b[0m\u001b[0;34m[\u001b[0m\u001b[0;34m'7-sekolah-example.csv'\u001b[0m\u001b[0;34m]\u001b[0m\u001b[0;34m[\u001b[0m\u001b[0;34m'column'\u001b[0m\u001b[0;34m]\u001b[0m\u001b[0;34m\u001b[0m\u001b[0;34m\u001b[0m\u001b[0m\n\u001b[0;32m---> 37\u001b[0;31m     \u001b[0mres\u001b[0m \u001b[0;34m=\u001b[0m \u001b[0mget_old_label\u001b[0m\u001b[0;34m(\u001b[0m\u001b[0mdf_l\u001b[0m\u001b[0;34m,\u001b[0m \u001b[0mdf_m\u001b[0m\u001b[0;34m,\u001b[0m \u001b[0ms1\u001b[0m\u001b[0;34m)\u001b[0m\u001b[0;34m\u001b[0m\u001b[0;34m\u001b[0m\u001b[0m\n\u001b[0m\u001b[1;32m     38\u001b[0m     \u001b[0mprint\u001b[0m\u001b[0;34m(\u001b[0m\u001b[0mres\u001b[0m\u001b[0;34m.\u001b[0m\u001b[0mhead\u001b[0m\u001b[0;34m(\u001b[0m\u001b[0;34m)\u001b[0m\u001b[0;34m)\u001b[0m\u001b[0;34m\u001b[0m\u001b[0;34m\u001b[0m\u001b[0m\n",
      "\u001b[0;32m<ipython-input-62-d58854a86d20>\u001b[0m in \u001b[0;36mget_old_label\u001b[0;34m(df_l, df_m, columns)\u001b[0m\n\u001b[1;32m     30\u001b[0m     \u001b[0mprint\u001b[0m\u001b[0;34m(\u001b[0m\u001b[0mdf_m\u001b[0m\u001b[0;34m.\u001b[0m\u001b[0mcolumns\u001b[0m\u001b[0;34m)\u001b[0m\u001b[0;34m\u001b[0m\u001b[0;34m\u001b[0m\u001b[0m\n\u001b[1;32m     31\u001b[0m     \u001b[0;32mfor\u001b[0m \u001b[0mec\u001b[0m \u001b[0;32min\u001b[0m \u001b[0mentity_col\u001b[0m\u001b[0;34m:\u001b[0m\u001b[0;34m\u001b[0m\u001b[0;34m\u001b[0m\u001b[0m\n\u001b[0;32m---> 32\u001b[0;31m         \u001b[0mdf_result\u001b[0m\u001b[0;34m[\u001b[0m\u001b[0mec\u001b[0m\u001b[0;34m]\u001b[0m \u001b[0;34m=\u001b[0m \u001b[0mdf_m\u001b[0m\u001b[0;34m[\u001b[0m\u001b[0mentity_col_pair\u001b[0m\u001b[0;34m[\u001b[0m\u001b[0mec\u001b[0m\u001b[0;34m]\u001b[0m\u001b[0;34m]\u001b[0m\u001b[0;34m+\u001b[0m\u001b[0;34m\" - \"\u001b[0m\u001b[0;34m+\u001b[0m\u001b[0mdf_l\u001b[0m\u001b[0;34m[\u001b[0m\u001b[0mec\u001b[0m\u001b[0;34m]\u001b[0m\u001b[0;34m\u001b[0m\u001b[0;34m\u001b[0m\u001b[0m\n\u001b[0m\u001b[1;32m     33\u001b[0m     \u001b[0;32mreturn\u001b[0m \u001b[0mdf_result\u001b[0m\u001b[0;34m\u001b[0m\u001b[0;34m\u001b[0m\u001b[0m\n\u001b[1;32m     34\u001b[0m \u001b[0;34m\u001b[0m\u001b[0m\n",
      "\u001b[0;32m/usr/local/lib/python3.7/site-packages/pandas/core/frame.py\u001b[0m in \u001b[0;36m__getitem__\u001b[0;34m(self, key)\u001b[0m\n\u001b[1;32m   2798\u001b[0m             \u001b[0;32mif\u001b[0m \u001b[0mself\u001b[0m\u001b[0;34m.\u001b[0m\u001b[0mcolumns\u001b[0m\u001b[0;34m.\u001b[0m\u001b[0mnlevels\u001b[0m \u001b[0;34m>\u001b[0m \u001b[0;36m1\u001b[0m\u001b[0;34m:\u001b[0m\u001b[0;34m\u001b[0m\u001b[0;34m\u001b[0m\u001b[0m\n\u001b[1;32m   2799\u001b[0m                 \u001b[0;32mreturn\u001b[0m \u001b[0mself\u001b[0m\u001b[0;34m.\u001b[0m\u001b[0m_getitem_multilevel\u001b[0m\u001b[0;34m(\u001b[0m\u001b[0mkey\u001b[0m\u001b[0;34m)\u001b[0m\u001b[0;34m\u001b[0m\u001b[0;34m\u001b[0m\u001b[0m\n\u001b[0;32m-> 2800\u001b[0;31m             \u001b[0mindexer\u001b[0m \u001b[0;34m=\u001b[0m \u001b[0mself\u001b[0m\u001b[0;34m.\u001b[0m\u001b[0mcolumns\u001b[0m\u001b[0;34m.\u001b[0m\u001b[0mget_loc\u001b[0m\u001b[0;34m(\u001b[0m\u001b[0mkey\u001b[0m\u001b[0;34m)\u001b[0m\u001b[0;34m\u001b[0m\u001b[0;34m\u001b[0m\u001b[0m\n\u001b[0m\u001b[1;32m   2801\u001b[0m             \u001b[0;32mif\u001b[0m \u001b[0mis_integer\u001b[0m\u001b[0;34m(\u001b[0m\u001b[0mindexer\u001b[0m\u001b[0;34m)\u001b[0m\u001b[0;34m:\u001b[0m\u001b[0;34m\u001b[0m\u001b[0;34m\u001b[0m\u001b[0m\n\u001b[1;32m   2802\u001b[0m                 \u001b[0mindexer\u001b[0m \u001b[0;34m=\u001b[0m \u001b[0;34m[\u001b[0m\u001b[0mindexer\u001b[0m\u001b[0;34m]\u001b[0m\u001b[0;34m\u001b[0m\u001b[0;34m\u001b[0m\u001b[0m\n",
      "\u001b[0;32m/usr/local/lib/python3.7/site-packages/pandas/core/indexes/base.py\u001b[0m in \u001b[0;36mget_loc\u001b[0;34m(self, key, method, tolerance)\u001b[0m\n\u001b[1;32m   2646\u001b[0m                 \u001b[0;32mreturn\u001b[0m \u001b[0mself\u001b[0m\u001b[0;34m.\u001b[0m\u001b[0m_engine\u001b[0m\u001b[0;34m.\u001b[0m\u001b[0mget_loc\u001b[0m\u001b[0;34m(\u001b[0m\u001b[0mkey\u001b[0m\u001b[0;34m)\u001b[0m\u001b[0;34m\u001b[0m\u001b[0;34m\u001b[0m\u001b[0m\n\u001b[1;32m   2647\u001b[0m             \u001b[0;32mexcept\u001b[0m \u001b[0mKeyError\u001b[0m\u001b[0;34m:\u001b[0m\u001b[0;34m\u001b[0m\u001b[0;34m\u001b[0m\u001b[0m\n\u001b[0;32m-> 2648\u001b[0;31m                 \u001b[0;32mreturn\u001b[0m \u001b[0mself\u001b[0m\u001b[0;34m.\u001b[0m\u001b[0m_engine\u001b[0m\u001b[0;34m.\u001b[0m\u001b[0mget_loc\u001b[0m\u001b[0;34m(\u001b[0m\u001b[0mself\u001b[0m\u001b[0;34m.\u001b[0m\u001b[0m_maybe_cast_indexer\u001b[0m\u001b[0;34m(\u001b[0m\u001b[0mkey\u001b[0m\u001b[0;34m)\u001b[0m\u001b[0;34m)\u001b[0m\u001b[0;34m\u001b[0m\u001b[0;34m\u001b[0m\u001b[0m\n\u001b[0m\u001b[1;32m   2649\u001b[0m         \u001b[0mindexer\u001b[0m \u001b[0;34m=\u001b[0m \u001b[0mself\u001b[0m\u001b[0;34m.\u001b[0m\u001b[0mget_indexer\u001b[0m\u001b[0;34m(\u001b[0m\u001b[0;34m[\u001b[0m\u001b[0mkey\u001b[0m\u001b[0;34m]\u001b[0m\u001b[0;34m,\u001b[0m \u001b[0mmethod\u001b[0m\u001b[0;34m=\u001b[0m\u001b[0mmethod\u001b[0m\u001b[0;34m,\u001b[0m \u001b[0mtolerance\u001b[0m\u001b[0;34m=\u001b[0m\u001b[0mtolerance\u001b[0m\u001b[0;34m)\u001b[0m\u001b[0;34m\u001b[0m\u001b[0;34m\u001b[0m\u001b[0m\n\u001b[1;32m   2650\u001b[0m         \u001b[0;32mif\u001b[0m \u001b[0mindexer\u001b[0m\u001b[0;34m.\u001b[0m\u001b[0mndim\u001b[0m \u001b[0;34m>\u001b[0m \u001b[0;36m1\u001b[0m \u001b[0;32mor\u001b[0m \u001b[0mindexer\u001b[0m\u001b[0;34m.\u001b[0m\u001b[0msize\u001b[0m \u001b[0;34m>\u001b[0m \u001b[0;36m1\u001b[0m\u001b[0;34m:\u001b[0m\u001b[0;34m\u001b[0m\u001b[0;34m\u001b[0m\u001b[0m\n",
      "\u001b[0;32mpandas/_libs/index.pyx\u001b[0m in \u001b[0;36mpandas._libs.index.IndexEngine.get_loc\u001b[0;34m()\u001b[0m\n",
      "\u001b[0;32mpandas/_libs/index.pyx\u001b[0m in \u001b[0;36mpandas._libs.index.IndexEngine.get_loc\u001b[0;34m()\u001b[0m\n",
      "\u001b[0;32mpandas/_libs/hashtable_class_helper.pxi\u001b[0m in \u001b[0;36mpandas._libs.hashtable.PyObjectHashTable.get_item\u001b[0;34m()\u001b[0m\n",
      "\u001b[0;32mpandas/_libs/hashtable_class_helper.pxi\u001b[0m in \u001b[0;36mpandas._libs.hashtable.PyObjectHashTable.get_item\u001b[0;34m()\u001b[0m\n",
      "\u001b[0;31mKeyError\u001b[0m: 'sekolah-[Protagonist]-Q3914-sekolah-institution designed to teach students under the direction of teachers'"
     ]
    }
   ],
   "source": [
    "import re, shelve\n",
    "\n",
    "def get_old_label(df_l, df_m, columns: dict):\n",
    "    pattern = re.compile(\"(Q[1-9])\\w+\")\n",
    "    entity_col = []\n",
    "    entity_col_pair = {}\n",
    "\n",
    "    #identify entity column\n",
    "    for l_col in df_l.columns:\n",
    "        print(str(df_l[l_col][0]))\n",
    "        if bool(pattern.match(str(df_l[l_col][0]))):\n",
    "            entity_col.append(l_col)\n",
    "        \n",
    "    #loop e col\n",
    "    for ec in entity_col:\n",
    "        for col in columns.keys():\n",
    "            #getting mapped label of the linked\n",
    "            if columns[col]['linked'] == ec:\n",
    "                entity_col_pair[ec] = columns[col]['mapped']\n",
    "\n",
    "     #mash old label with link result\n",
    "    df_result = df_l.copy()\n",
    "    for ec in entity_col:\n",
    "        #Skipping P31 because its auto generated column, hence no old label\n",
    "        if ec == \"P31\":\n",
    "            continue\n",
    "        df_result[ec] = df_m[entity_col_pair[ec]]+\" - \"+df_l[ec]\n",
    "    \n",
    "    #Add protagonist column label\n",
    "    protagonist_col_l = df_l.columns[0] #just default value\n",
    "    for col in columns.keys():\n",
    "            if columns[col]['results'] == \"qid\":\n",
    "                protagonist_col_l = columns[col]['linked']\n",
    "    \n",
    "    protagonist_col_m = df_m.columns[0]\n",
    "    for col_m in df_m.columns:\n",
    "        if \"[Protagonist]\" in col_m:\n",
    "            protagonist_col_m=col_m\n",
    "\n",
    "    df_result[protagonist_col_l] = df_m[protagonist_col_m]+\" - \"+df_l[protagonist_col_l]\n",
    "\n",
    "    return df_result\n",
    "\n",
    "with shelve.open('db/col-db') as s:\n",
    "    s1 = s['7-sekolah-example.csv']['column']\n",
    "    res = get_old_label(df_l, df_m, s1)\n",
    "    print(res.head())"
   ]
  },
  {
   "cell_type": "code",
   "execution_count": 34,
   "metadata": {
    "tags": []
   },
   "outputs": [
    {
     "output_type": "stream",
     "name": "stdout",
     "text": "<re.Match object; span=(0, 4), match='Q123'>\n"
    }
   ],
   "source": [
    "    pattern = re.compile(\"(Q[1-9])\\w+\")\n",
    "    print(pattern.match(\"Q123\"))"
   ]
  },
  {
   "cell_type": "code",
   "execution_count": 57,
   "metadata": {},
   "outputs": [
    {
     "output_type": "execute_result",
     "data": {
      "text/plain": "{'sekolah': {'mapped': 'sekolah-[Protagonist]-Q3914-sekolah-institution designed to teach students under the direction of teachers',\n  'linked': 'sekolah',\n  'results': 'qid'},\n 'kota': {'mapped': 'kota-P36-ibu kota', 'linked': 'P36', 'results': 'P36'}}"
     },
     "metadata": {},
     "execution_count": 57
    }
   ],
   "source": [
    "with shelve.open('db/col-db') as s:\n",
    "    s1 = s['7-sekolah-example.csv']['column']\n",
    "\n",
    "s1"
   ]
  },
  {
   "cell_type": "code",
   "execution_count": null,
   "metadata": {},
   "outputs": [],
   "source": [
    "  \"&quot;transaction_id&quot; : &quot;trxpbtest0105&quot;,\n",
    "  &quot;bill_amount&quot; : &quot;100&quot;,\n",
    "  &quot;admin_fee&quot; : &quot;50&quot;,\n",
    "  &quot;paid_amount&quot; : &quot;100&quot;,\n",
    "  &quot;timestamp&quot; : &quot;2020-08-14 11:10:58.502&quot;,\n",
    "  &quot;status&quot; : &quot;SUCCESS&quot;\""
   ]
  }
 ],
 "metadata": {
  "language_info": {
   "codemirror_mode": {
    "name": "ipython",
    "version": 3
   },
   "file_extension": ".py",
   "mimetype": "text/x-python",
   "name": "python",
   "nbconvert_exporter": "python",
   "pygments_lexer": "ipython3",
   "version": "3.7.3-final"
  },
  "orig_nbformat": 2,
  "kernelspec": {
   "name": "python37364bitbb760e31327a443eaa19e35b2b78b4ce",
   "display_name": "Python 3.7.3 64-bit"
  }
 },
 "nbformat": 4,
 "nbformat_minor": 2
}