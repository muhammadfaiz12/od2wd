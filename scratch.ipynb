{
 "cells": [
  {
   "cell_type": "code",
   "execution_count": 1,
   "metadata": {},
   "outputs": [],
   "source": [
    "import pandas as pd"
   ]
  },
  {
   "cell_type": "code",
   "execution_count": 19,
   "metadata": {},
   "outputs": [
    {
     "output_type": "execute_result",
     "data": {
      "text/plain": "                                                unit  \\\n0                            Suban PRD Jakarta Pusat   \n1                            Suban PRD Jakarta Barat   \n2  Suban PRD Jakarta Utara dan Kabupaten Kepulaua...   \n3                          Suban PRD Jakarta Selatan   \n4                            Suban PRD Jakarta Timur   \n\n                                              alamat          wilayah  \\\n0  Gedung Dinas Teknis Abdul Muis, Lantai 2, Jl. ...    Jakarta Pusat   \n1  Kantor Walikota Jakarta Barat, Gedung B Lantai...    Jakarta Barat   \n2  Kantor Walikota Administrasi Jakarta Utara, Ge...    Jakarta Utara   \n3  Kantor Walikota Administrasi Jakarta Selatan, ...  Jakarta Selatan   \n4  Kantor Bersama Samsat Jakarta Timur, Lantai 4,...    Jakarta Timur   \n\n                       email       telepon           fax   latitude  \\\n0     sudin.jakpus@gmail.com  021-3865612    021-3518893  -6.178009   \n1  pajaksudinbarat@gmail.com  021-58357709  021-58357709  -6.153667   \n2      sbprd.utara@gmail.com   021-4358788   021-4358788  -6.120681   \n3    sbprd.selatan@gmail.com   021-7226350   021-7206910  -6.247697   \n4  sudinpajaktimur@gmail.com   021-8199831           NaN  -6.229624   \n\n    longitude  \n0  106.818561  \n1  106.738311  \n2  106.892289  \n3  106.807775  \n4  106.877030  ",
      "text/html": "<div>\n<style scoped>\n    .dataframe tbody tr th:only-of-type {\n        vertical-align: middle;\n    }\n\n    .dataframe tbody tr th {\n        vertical-align: top;\n    }\n\n    .dataframe thead th {\n        text-align: right;\n    }\n</style>\n<table border=\"1\" class=\"dataframe\">\n  <thead>\n    <tr style=\"text-align: right;\">\n      <th></th>\n      <th>unit</th>\n      <th>alamat</th>\n      <th>wilayah</th>\n      <th>email</th>\n      <th>telepon</th>\n      <th>fax</th>\n      <th>latitude</th>\n      <th>longitude</th>\n    </tr>\n  </thead>\n  <tbody>\n    <tr>\n      <th>0</th>\n      <td>Suban PRD Jakarta Pusat</td>\n      <td>Gedung Dinas Teknis Abdul Muis, Lantai 2, Jl. ...</td>\n      <td>Jakarta Pusat</td>\n      <td>sudin.jakpus@gmail.com</td>\n      <td>021-3865612</td>\n      <td>021-3518893</td>\n      <td>-6.178009</td>\n      <td>106.818561</td>\n    </tr>\n    <tr>\n      <th>1</th>\n      <td>Suban PRD Jakarta Barat</td>\n      <td>Kantor Walikota Jakarta Barat, Gedung B Lantai...</td>\n      <td>Jakarta Barat</td>\n      <td>pajaksudinbarat@gmail.com</td>\n      <td>021-58357709</td>\n      <td>021-58357709</td>\n      <td>-6.153667</td>\n      <td>106.738311</td>\n    </tr>\n    <tr>\n      <th>2</th>\n      <td>Suban PRD Jakarta Utara dan Kabupaten Kepulaua...</td>\n      <td>Kantor Walikota Administrasi Jakarta Utara, Ge...</td>\n      <td>Jakarta Utara</td>\n      <td>sbprd.utara@gmail.com</td>\n      <td>021-4358788</td>\n      <td>021-4358788</td>\n      <td>-6.120681</td>\n      <td>106.892289</td>\n    </tr>\n    <tr>\n      <th>3</th>\n      <td>Suban PRD Jakarta Selatan</td>\n      <td>Kantor Walikota Administrasi Jakarta Selatan, ...</td>\n      <td>Jakarta Selatan</td>\n      <td>sbprd.selatan@gmail.com</td>\n      <td>021-7226350</td>\n      <td>021-7206910</td>\n      <td>-6.247697</td>\n      <td>106.807775</td>\n    </tr>\n    <tr>\n      <th>4</th>\n      <td>Suban PRD Jakarta Timur</td>\n      <td>Kantor Bersama Samsat Jakarta Timur, Lantai 4,...</td>\n      <td>Jakarta Timur</td>\n      <td>sudinpajaktimur@gmail.com</td>\n      <td>021-8199831</td>\n      <td>NaN</td>\n      <td>-6.229624</td>\n      <td>106.877030</td>\n    </tr>\n  </tbody>\n</table>\n</div>"
     },
     "metadata": {},
     "execution_count": 19
    }
   ],
   "source": [
    "df_final = pd.read_csv('data1.csv', encoding='latin-1')\n",
    "df_final.head()"
   ]
  },
  {
   "cell_type": "code",
   "execution_count": 20,
   "metadata": {},
   "outputs": [],
   "source": [
    " #addreference\n",
    "doc_idx = 2\n",
    "while doc_idx <= len(df_final.columns):\n",
    "    df_final.insert(doc_idx, \"#-%d\"%doc_idx, \"\\\"\\\"\\\"\\\"\" + \"www.data.jakarta.go.id\" + \"\\\"\")\n",
    "    doc_idx += 2\n",
    "#All reference column (#-<idx>) should be formatted to \"#\" to match QS\n",
    "cols_cleaning_reference = [\"S248\" if \"#-\" in col else col for col in df_final.columns]\n",
    "df_final.columns = cols_cleaning_reference"
   ]
  },
  {
   "cell_type": "code",
   "execution_count": 21,
   "metadata": {},
   "outputs": [
    {
     "output_type": "execute_result",
     "data": {
      "text/plain": "                                                unit  \\\n0                            Suban PRD Jakarta Pusat   \n1                            Suban PRD Jakarta Barat   \n2  Suban PRD Jakarta Utara dan Kabupaten Kepulaua...   \n3                          Suban PRD Jakarta Selatan   \n4                            Suban PRD Jakarta Timur   \n\n                                              alamat  \\\n0  Gedung Dinas Teknis Abdul Muis, Lantai 2, Jl. ...   \n1  Kantor Walikota Jakarta Barat, Gedung B Lantai...   \n2  Kantor Walikota Administrasi Jakarta Utara, Ge...   \n3  Kantor Walikota Administrasi Jakarta Selatan, ...   \n4  Kantor Bersama Samsat Jakarta Timur, Lantai 4,...   \n\n                          S248          wilayah                         S248  \\\n0  \"\"\"\"www.data.jakarta.go.id\"    Jakarta Pusat  \"\"\"\"www.data.jakarta.go.id\"   \n1  \"\"\"\"www.data.jakarta.go.id\"    Jakarta Barat  \"\"\"\"www.data.jakarta.go.id\"   \n2  \"\"\"\"www.data.jakarta.go.id\"    Jakarta Utara  \"\"\"\"www.data.jakarta.go.id\"   \n3  \"\"\"\"www.data.jakarta.go.id\"  Jakarta Selatan  \"\"\"\"www.data.jakarta.go.id\"   \n4  \"\"\"\"www.data.jakarta.go.id\"    Jakarta Timur  \"\"\"\"www.data.jakarta.go.id\"   \n\n                       email                         S248       telepon  \\\n0     sudin.jakpus@gmail.com  \"\"\"\"www.data.jakarta.go.id\"  021-3865612    \n1  pajaksudinbarat@gmail.com  \"\"\"\"www.data.jakarta.go.id\"  021-58357709   \n2      sbprd.utara@gmail.com  \"\"\"\"www.data.jakarta.go.id\"   021-4358788   \n3    sbprd.selatan@gmail.com  \"\"\"\"www.data.jakarta.go.id\"   021-7226350   \n4  sudinpajaktimur@gmail.com  \"\"\"\"www.data.jakarta.go.id\"   021-8199831   \n\n                          S248           fax                         S248  \\\n0  \"\"\"\"www.data.jakarta.go.id\"   021-3518893  \"\"\"\"www.data.jakarta.go.id\"   \n1  \"\"\"\"www.data.jakarta.go.id\"  021-58357709  \"\"\"\"www.data.jakarta.go.id\"   \n2  \"\"\"\"www.data.jakarta.go.id\"   021-4358788  \"\"\"\"www.data.jakarta.go.id\"   \n3  \"\"\"\"www.data.jakarta.go.id\"   021-7206910  \"\"\"\"www.data.jakarta.go.id\"   \n4  \"\"\"\"www.data.jakarta.go.id\"           NaN  \"\"\"\"www.data.jakarta.go.id\"   \n\n    latitude                         S248   longitude  \\\n0  -6.178009  \"\"\"\"www.data.jakarta.go.id\"  106.818561   \n1  -6.153667  \"\"\"\"www.data.jakarta.go.id\"  106.738311   \n2  -6.120681  \"\"\"\"www.data.jakarta.go.id\"  106.892289   \n3  -6.247697  \"\"\"\"www.data.jakarta.go.id\"  106.807775   \n4  -6.229624  \"\"\"\"www.data.jakarta.go.id\"  106.877030   \n\n                          S248  \n0  \"\"\"\"www.data.jakarta.go.id\"  \n1  \"\"\"\"www.data.jakarta.go.id\"  \n2  \"\"\"\"www.data.jakarta.go.id\"  \n3  \"\"\"\"www.data.jakarta.go.id\"  \n4  \"\"\"\"www.data.jakarta.go.id\"  ",
      "text/html": "<div>\n<style scoped>\n    .dataframe tbody tr th:only-of-type {\n        vertical-align: middle;\n    }\n\n    .dataframe tbody tr th {\n        vertical-align: top;\n    }\n\n    .dataframe thead th {\n        text-align: right;\n    }\n</style>\n<table border=\"1\" class=\"dataframe\">\n  <thead>\n    <tr style=\"text-align: right;\">\n      <th></th>\n      <th>unit</th>\n      <th>alamat</th>\n      <th>S248</th>\n      <th>wilayah</th>\n      <th>S248</th>\n      <th>email</th>\n      <th>S248</th>\n      <th>telepon</th>\n      <th>S248</th>\n      <th>fax</th>\n      <th>S248</th>\n      <th>latitude</th>\n      <th>S248</th>\n      <th>longitude</th>\n      <th>S248</th>\n    </tr>\n  </thead>\n  <tbody>\n    <tr>\n      <th>0</th>\n      <td>Suban PRD Jakarta Pusat</td>\n      <td>Gedung Dinas Teknis Abdul Muis, Lantai 2, Jl. ...</td>\n      <td>\"\"\"\"www.data.jakarta.go.id\"</td>\n      <td>Jakarta Pusat</td>\n      <td>\"\"\"\"www.data.jakarta.go.id\"</td>\n      <td>sudin.jakpus@gmail.com</td>\n      <td>\"\"\"\"www.data.jakarta.go.id\"</td>\n      <td>021-3865612</td>\n      <td>\"\"\"\"www.data.jakarta.go.id\"</td>\n      <td>021-3518893</td>\n      <td>\"\"\"\"www.data.jakarta.go.id\"</td>\n      <td>-6.178009</td>\n      <td>\"\"\"\"www.data.jakarta.go.id\"</td>\n      <td>106.818561</td>\n      <td>\"\"\"\"www.data.jakarta.go.id\"</td>\n    </tr>\n    <tr>\n      <th>1</th>\n      <td>Suban PRD Jakarta Barat</td>\n      <td>Kantor Walikota Jakarta Barat, Gedung B Lantai...</td>\n      <td>\"\"\"\"www.data.jakarta.go.id\"</td>\n      <td>Jakarta Barat</td>\n      <td>\"\"\"\"www.data.jakarta.go.id\"</td>\n      <td>pajaksudinbarat@gmail.com</td>\n      <td>\"\"\"\"www.data.jakarta.go.id\"</td>\n      <td>021-58357709</td>\n      <td>\"\"\"\"www.data.jakarta.go.id\"</td>\n      <td>021-58357709</td>\n      <td>\"\"\"\"www.data.jakarta.go.id\"</td>\n      <td>-6.153667</td>\n      <td>\"\"\"\"www.data.jakarta.go.id\"</td>\n      <td>106.738311</td>\n      <td>\"\"\"\"www.data.jakarta.go.id\"</td>\n    </tr>\n    <tr>\n      <th>2</th>\n      <td>Suban PRD Jakarta Utara dan Kabupaten Kepulaua...</td>\n      <td>Kantor Walikota Administrasi Jakarta Utara, Ge...</td>\n      <td>\"\"\"\"www.data.jakarta.go.id\"</td>\n      <td>Jakarta Utara</td>\n      <td>\"\"\"\"www.data.jakarta.go.id\"</td>\n      <td>sbprd.utara@gmail.com</td>\n      <td>\"\"\"\"www.data.jakarta.go.id\"</td>\n      <td>021-4358788</td>\n      <td>\"\"\"\"www.data.jakarta.go.id\"</td>\n      <td>021-4358788</td>\n      <td>\"\"\"\"www.data.jakarta.go.id\"</td>\n      <td>-6.120681</td>\n      <td>\"\"\"\"www.data.jakarta.go.id\"</td>\n      <td>106.892289</td>\n      <td>\"\"\"\"www.data.jakarta.go.id\"</td>\n    </tr>\n    <tr>\n      <th>3</th>\n      <td>Suban PRD Jakarta Selatan</td>\n      <td>Kantor Walikota Administrasi Jakarta Selatan, ...</td>\n      <td>\"\"\"\"www.data.jakarta.go.id\"</td>\n      <td>Jakarta Selatan</td>\n      <td>\"\"\"\"www.data.jakarta.go.id\"</td>\n      <td>sbprd.selatan@gmail.com</td>\n      <td>\"\"\"\"www.data.jakarta.go.id\"</td>\n      <td>021-7226350</td>\n      <td>\"\"\"\"www.data.jakarta.go.id\"</td>\n      <td>021-7206910</td>\n      <td>\"\"\"\"www.data.jakarta.go.id\"</td>\n      <td>-6.247697</td>\n      <td>\"\"\"\"www.data.jakarta.go.id\"</td>\n      <td>106.807775</td>\n      <td>\"\"\"\"www.data.jakarta.go.id\"</td>\n    </tr>\n    <tr>\n      <th>4</th>\n      <td>Suban PRD Jakarta Timur</td>\n      <td>Kantor Bersama Samsat Jakarta Timur, Lantai 4,...</td>\n      <td>\"\"\"\"www.data.jakarta.go.id\"</td>\n      <td>Jakarta Timur</td>\n      <td>\"\"\"\"www.data.jakarta.go.id\"</td>\n      <td>sudinpajaktimur@gmail.com</td>\n      <td>\"\"\"\"www.data.jakarta.go.id\"</td>\n      <td>021-8199831</td>\n      <td>\"\"\"\"www.data.jakarta.go.id\"</td>\n      <td>NaN</td>\n      <td>\"\"\"\"www.data.jakarta.go.id\"</td>\n      <td>-6.229624</td>\n      <td>\"\"\"\"www.data.jakarta.go.id\"</td>\n      <td>106.877030</td>\n      <td>\"\"\"\"www.data.jakarta.go.id\"</td>\n    </tr>\n  </tbody>\n</table>\n</div>"
     },
     "metadata": {},
     "execution_count": 21
    }
   ],
   "source": [
    "df_final.head()"
   ]
  },
  {
   "cell_type": "code",
   "execution_count": 28,
   "metadata": {},
   "outputs": [
    {
     "output_type": "error",
     "ename": "JSONDecodeError",
     "evalue": "Expecting value: line 1 column 1 (char 0)",
     "traceback": [
      "\u001b[0;31m---------------------------------------------------------------------------\u001b[0m",
      "\u001b[0;31mJSONDecodeError\u001b[0m                           Traceback (most recent call last)",
      "\u001b[0;32m<ipython-input-28-e60c9dafcc41>\u001b[0m in \u001b[0;36m<module>\u001b[0;34m\u001b[0m\n\u001b[1;32m      4\u001b[0m \u001b[0mparams\u001b[0m\u001b[0;34m[\u001b[0m\u001b[0;34m'q'\u001b[0m\u001b[0;34m]\u001b[0m\u001b[0;34m=\u001b[0m\u001b[0;34m\"puskesmas\"\u001b[0m\u001b[0;34m\u001b[0m\u001b[0;34m\u001b[0m\u001b[0m\n\u001b[1;32m      5\u001b[0m \u001b[0mresponse\u001b[0m \u001b[0;34m=\u001b[0m \u001b[0mrequests\u001b[0m\u001b[0;34m.\u001b[0m\u001b[0mget\u001b[0m\u001b[0;34m(\u001b[0m\u001b[0murl\u001b[0m\u001b[0;34m=\u001b[0m\u001b[0mbase_url\u001b[0m\u001b[0;34m,\u001b[0m \u001b[0mparams\u001b[0m\u001b[0;34m=\u001b[0m\u001b[0mparams\u001b[0m\u001b[0;34m)\u001b[0m\u001b[0;34m\u001b[0m\u001b[0;34m\u001b[0m\u001b[0m\n\u001b[0;32m----> 6\u001b[0;31m \u001b[0mjson_data\u001b[0m \u001b[0;34m=\u001b[0m \u001b[0mjson\u001b[0m\u001b[0;34m.\u001b[0m\u001b[0mloads\u001b[0m\u001b[0;34m(\u001b[0m\u001b[0mresponse\u001b[0m\u001b[0;34m.\u001b[0m\u001b[0mtext\u001b[0m\u001b[0;34m)\u001b[0m\u001b[0;34m\u001b[0m\u001b[0;34m\u001b[0m\u001b[0m\n\u001b[0m",
      "\u001b[0;32m/usr/local/Cellar/python/3.7.3/Frameworks/Python.framework/Versions/3.7/lib/python3.7/json/__init__.py\u001b[0m in \u001b[0;36mloads\u001b[0;34m(s, encoding, cls, object_hook, parse_float, parse_int, parse_constant, object_pairs_hook, **kw)\u001b[0m\n\u001b[1;32m    346\u001b[0m             \u001b[0mparse_int\u001b[0m \u001b[0;32mis\u001b[0m \u001b[0;32mNone\u001b[0m \u001b[0;32mand\u001b[0m \u001b[0mparse_float\u001b[0m \u001b[0;32mis\u001b[0m \u001b[0;32mNone\u001b[0m \u001b[0;32mand\u001b[0m\u001b[0;34m\u001b[0m\u001b[0;34m\u001b[0m\u001b[0m\n\u001b[1;32m    347\u001b[0m             parse_constant is None and object_pairs_hook is None and not kw):\n\u001b[0;32m--> 348\u001b[0;31m         \u001b[0;32mreturn\u001b[0m \u001b[0m_default_decoder\u001b[0m\u001b[0;34m.\u001b[0m\u001b[0mdecode\u001b[0m\u001b[0;34m(\u001b[0m\u001b[0ms\u001b[0m\u001b[0;34m)\u001b[0m\u001b[0;34m\u001b[0m\u001b[0;34m\u001b[0m\u001b[0m\n\u001b[0m\u001b[1;32m    349\u001b[0m     \u001b[0;32mif\u001b[0m \u001b[0mcls\u001b[0m \u001b[0;32mis\u001b[0m \u001b[0;32mNone\u001b[0m\u001b[0;34m:\u001b[0m\u001b[0;34m\u001b[0m\u001b[0;34m\u001b[0m\u001b[0m\n\u001b[1;32m    350\u001b[0m         \u001b[0mcls\u001b[0m \u001b[0;34m=\u001b[0m \u001b[0mJSONDecoder\u001b[0m\u001b[0;34m\u001b[0m\u001b[0;34m\u001b[0m\u001b[0m\n",
      "\u001b[0;32m/usr/local/Cellar/python/3.7.3/Frameworks/Python.framework/Versions/3.7/lib/python3.7/json/decoder.py\u001b[0m in \u001b[0;36mdecode\u001b[0;34m(self, s, _w)\u001b[0m\n\u001b[1;32m    335\u001b[0m \u001b[0;34m\u001b[0m\u001b[0m\n\u001b[1;32m    336\u001b[0m         \"\"\"\n\u001b[0;32m--> 337\u001b[0;31m         \u001b[0mobj\u001b[0m\u001b[0;34m,\u001b[0m \u001b[0mend\u001b[0m \u001b[0;34m=\u001b[0m \u001b[0mself\u001b[0m\u001b[0;34m.\u001b[0m\u001b[0mraw_decode\u001b[0m\u001b[0;34m(\u001b[0m\u001b[0ms\u001b[0m\u001b[0;34m,\u001b[0m \u001b[0midx\u001b[0m\u001b[0;34m=\u001b[0m\u001b[0m_w\u001b[0m\u001b[0;34m(\u001b[0m\u001b[0ms\u001b[0m\u001b[0;34m,\u001b[0m \u001b[0;36m0\u001b[0m\u001b[0;34m)\u001b[0m\u001b[0;34m.\u001b[0m\u001b[0mend\u001b[0m\u001b[0;34m(\u001b[0m\u001b[0;34m)\u001b[0m\u001b[0;34m)\u001b[0m\u001b[0;34m\u001b[0m\u001b[0;34m\u001b[0m\u001b[0m\n\u001b[0m\u001b[1;32m    338\u001b[0m         \u001b[0mend\u001b[0m \u001b[0;34m=\u001b[0m \u001b[0m_w\u001b[0m\u001b[0;34m(\u001b[0m\u001b[0ms\u001b[0m\u001b[0;34m,\u001b[0m \u001b[0mend\u001b[0m\u001b[0;34m)\u001b[0m\u001b[0;34m.\u001b[0m\u001b[0mend\u001b[0m\u001b[0;34m(\u001b[0m\u001b[0;34m)\u001b[0m\u001b[0;34m\u001b[0m\u001b[0;34m\u001b[0m\u001b[0m\n\u001b[1;32m    339\u001b[0m         \u001b[0;32mif\u001b[0m \u001b[0mend\u001b[0m \u001b[0;34m!=\u001b[0m \u001b[0mlen\u001b[0m\u001b[0;34m(\u001b[0m\u001b[0ms\u001b[0m\u001b[0;34m)\u001b[0m\u001b[0;34m:\u001b[0m\u001b[0;34m\u001b[0m\u001b[0;34m\u001b[0m\u001b[0m\n",
      "\u001b[0;32m/usr/local/Cellar/python/3.7.3/Frameworks/Python.framework/Versions/3.7/lib/python3.7/json/decoder.py\u001b[0m in \u001b[0;36mraw_decode\u001b[0;34m(self, s, idx)\u001b[0m\n\u001b[1;32m    353\u001b[0m             \u001b[0mobj\u001b[0m\u001b[0;34m,\u001b[0m \u001b[0mend\u001b[0m \u001b[0;34m=\u001b[0m \u001b[0mself\u001b[0m\u001b[0;34m.\u001b[0m\u001b[0mscan_once\u001b[0m\u001b[0;34m(\u001b[0m\u001b[0ms\u001b[0m\u001b[0;34m,\u001b[0m \u001b[0midx\u001b[0m\u001b[0;34m)\u001b[0m\u001b[0;34m\u001b[0m\u001b[0;34m\u001b[0m\u001b[0m\n\u001b[1;32m    354\u001b[0m         \u001b[0;32mexcept\u001b[0m \u001b[0mStopIteration\u001b[0m \u001b[0;32mas\u001b[0m \u001b[0merr\u001b[0m\u001b[0;34m:\u001b[0m\u001b[0;34m\u001b[0m\u001b[0;34m\u001b[0m\u001b[0m\n\u001b[0;32m--> 355\u001b[0;31m             \u001b[0;32mraise\u001b[0m \u001b[0mJSONDecodeError\u001b[0m\u001b[0;34m(\u001b[0m\u001b[0;34m\"Expecting value\"\u001b[0m\u001b[0;34m,\u001b[0m \u001b[0ms\u001b[0m\u001b[0;34m,\u001b[0m \u001b[0merr\u001b[0m\u001b[0;34m.\u001b[0m\u001b[0mvalue\u001b[0m\u001b[0;34m)\u001b[0m \u001b[0;32mfrom\u001b[0m \u001b[0;32mNone\u001b[0m\u001b[0;34m\u001b[0m\u001b[0;34m\u001b[0m\u001b[0m\n\u001b[0m\u001b[1;32m    356\u001b[0m         \u001b[0;32mreturn\u001b[0m \u001b[0mobj\u001b[0m\u001b[0;34m,\u001b[0m \u001b[0mend\u001b[0m\u001b[0;34m\u001b[0m\u001b[0;34m\u001b[0m\u001b[0m\n",
      "\u001b[0;31mJSONDecodeError\u001b[0m: Expecting value: line 1 column 1 (char 0)"
     ]
    }
   ],
   "source": [
    "import requests, json\n",
    "base_url = \"http://data.jakarta.go.id/api/3/action/package_search\"\n",
    "params = {}\n",
    "params['q']=\"puskesmas\"\n",
    "response = requests.get(url=base_url, params=params)\n",
    "json_data = json.loads(response.text)"
   ]
  },
  {
   "cell_type": "code",
   "execution_count": 29,
   "metadata": {},
   "outputs": [
    {
     "output_type": "execute_result",
     "data": {
      "text/plain": "40"
     },
     "metadata": {},
     "execution_count": 29
    }
   ],
   "source": [
    "len(json_data['result']['results'][0].keys())"
   ]
  },
  {
   "cell_type": "code",
   "execution_count": 3,
   "metadata": {},
   "outputs": [],
   "source": [
    "jakarta1 = json_data['result']['results'][0].keys()\n",
    "jakarta2 = json_data['result']['results'][2].keys()"
   ]
  },
  {
   "cell_type": "code",
   "execution_count": 4,
   "metadata": {
    "tags": []
   },
   "outputs": [
    {
     "output_type": "stream",
     "name": "stdout",
     "text": "=======\nkomentar\n"
    }
   ],
   "source": [
    "for ys in jakarta1:\n",
    "    if ys not in jakarta2:\n",
    "        print(ys)\n",
    "print(\"=======\")\n",
    "for xs in jakarta2:\n",
    "    if xs not in jakarta1:\n",
    "        print(xs)"
   ]
  },
  {
   "cell_type": "code",
   "execution_count": 6,
   "metadata": {},
   "outputs": [],
   "source": [
    "#Notables are tags, name, cakupan\n"
   ]
  },
  {
   "cell_type": "code",
   "execution_count": 7,
   "metadata": {},
   "outputs": [
    {
     "output_type": "execute_result",
     "data": {
      "text/plain": "[{'vocabulary_id': None,\n  'state': 'active',\n  'display_name': 'daerah',\n  'id': '03c753c6-e7c3-4281-aa42-0e1b206d5697',\n  'name': 'daerah'},\n {'vocabulary_id': None,\n  'state': 'active',\n  'display_name': 'dki jakarta',\n  'id': '0fd01c93-4e8f-4ca8-8b25-caab2286f8d9',\n  'name': 'dki jakarta'},\n {'vocabulary_id': None,\n  'state': 'active',\n  'display_name': 'inap',\n  'id': '53e37bd4-9f82-4e37-b2d0-0f2878f12a9d',\n  'name': 'inap'},\n {'vocabulary_id': None,\n  'state': 'active',\n  'display_name': 'kesehatan',\n  'id': '8fcacc1f-49de-42f9-bc98-e86f5a11b82c',\n  'name': 'kesehatan'},\n {'vocabulary_id': None,\n  'state': 'active',\n  'display_name': 'pemerintah',\n  'id': '26ef4f6e-9f71-4ea1-9cc9-b129cc8c50ad',\n  'name': 'pemerintah'},\n {'vocabulary_id': None,\n  'state': 'active',\n  'display_name': 'puskesmas',\n  'id': 'e9d62259-43a5-4439-8325-8c1b92e4debd',\n  'name': 'puskesmas'}]"
     },
     "metadata": {},
     "execution_count": 7
    }
   ],
   "source": [
    "x = json_data['result']['results'][0]\n",
    "x['tags']"
   ]
  },
  {
   "cell_type": "code",
   "execution_count": 8,
   "metadata": {},
   "outputs": [
    {
     "output_type": "execute_result",
     "data": {
      "text/plain": "'jumlahpuskesmasinapdijakarta'"
     },
     "metadata": {},
     "execution_count": 8
    }
   ],
   "source": [
    "x['name']"
   ]
  },
  {
   "cell_type": "code",
   "execution_count": 9,
   "metadata": {},
   "outputs": [
    {
     "output_type": "execute_result",
     "data": {
      "text/plain": "'Provinsi DKI Jakarta'"
     },
     "metadata": {},
     "execution_count": 9
    }
   ],
   "source": [
    "x['cakupan']"
   ]
  },
  {
   "cell_type": "code",
   "execution_count": 10,
   "metadata": {
    "tags": []
   },
   "outputs": [
    {
     "output_type": "stream",
     "name": "stdout",
     "text": "======\n"
    }
   ],
   "source": [
    "print(\"======\")"
   ]
  },
  {
   "cell_type": "code",
   "execution_count": 30,
   "metadata": {},
   "outputs": [],
   "source": [
    "import requests, json\n",
    "base_url = \"http://data.bandung.go.id/api/3/action/package_search\"\n",
    "params = {}\n",
    "params['q']=\"puskesmas\"\n",
    "response = requests.get(url=base_url, params=params)\n",
    "json_data_bd = json.loads(response.text)"
   ]
  },
  {
   "cell_type": "code",
   "execution_count": 31,
   "metadata": {},
   "outputs": [],
   "source": [
    "bandung1 = json_data_bd['result']['results'][0].keys()\n",
    "bandung2 = json_data_bd['result']['results'][2].keys()"
   ]
  },
  {
   "cell_type": "code",
   "execution_count": 32,
   "metadata": {},
   "outputs": [
    {
     "output_type": "execute_result",
     "data": {
      "text/plain": "dict_keys(['license_title', 'maintainer', 'relationships_as_object', 'private', 'maintainer_email', 'num_tags', 'id', 'metadata_created', 'metadata_modified', 'author', 'author_email', 'state', 'version', 'creator_user_id', 'type', 'resources', 'num_resources', 'tags', 'groups', 'license_id', 'relationships_as_subject', 'organization', 'name', 'isopen', 'url', 'notes', 'owner_org', 'extras', 'license_url', 'title', 'revision_id'])"
     },
     "metadata": {},
     "execution_count": 32
    }
   ],
   "source": [
    "bandung1"
   ]
  },
  {
   "cell_type": "code",
   "execution_count": 14,
   "metadata": {
    "tags": []
   },
   "outputs": [
    {
     "output_type": "stream",
     "name": "stdout",
     "text": "==========\n"
    }
   ],
   "source": [
    "for x in bandung1:\n",
    "    if x not in bandung2:\n",
    "        print(x)\n",
    "print(\"==========\")\n",
    "for x in bandung2:\n",
    "    if x not in bandung2:\n",
    "        print(x)"
   ]
  },
  {
   "cell_type": "code",
   "execution_count": 15,
   "metadata": {
    "tags": []
   },
   "outputs": [
    {
     "output_type": "stream",
     "name": "stdout",
     "text": "extras\n==========\nkontak\nrujukan\nBAPPEDA_OTHEN\nfrekuensi_penerbitan\ntracking_summary\ntahun\nlevel_penyajian\ncakupan\nSKPD_AUTH\nkomentar\nsumber\n"
    }
   ],
   "source": [
    "for x in bandung1:\n",
    "    if x not in jakarta2:\n",
    "        print(x)\n",
    "print(\"==========\")\n",
    "for x in jakarta2:\n",
    "    if x not in bandung1:\n",
    "        print(x)"
   ]
  },
  {
   "cell_type": "code",
   "execution_count": 16,
   "metadata": {},
   "outputs": [],
   "source": [
    "#notables"
   ]
  },
  {
   "cell_type": "code",
   "execution_count": 18,
   "metadata": {},
   "outputs": [
    {
     "output_type": "execute_result",
     "data": {
      "text/plain": "[{'vocabulary_id': None,\n  'state': 'active',\n  'display_name': 'kesehatan',\n  'id': '45a0ada8-0462-415c-8444-ff9b4a9ac236',\n  'name': 'kesehatan'},\n {'vocabulary_id': None,\n  'state': 'active',\n  'display_name': 'puskesmas',\n  'id': '6e75001c-5d66-4863-ad72-062d3605a3a0',\n  'name': 'puskesmas'}]"
     },
     "metadata": {},
     "execution_count": 18
    }
   ],
   "source": [
    "#tags\n",
    "bandung=json_data_bd['result']['results'][0]\n",
    "bandung['tags']"
   ]
  },
  {
   "cell_type": "code",
   "execution_count": 19,
   "metadata": {},
   "outputs": [
    {
     "output_type": "execute_result",
     "data": {
      "text/plain": "'puskesmas-di-kota-bandung'"
     },
     "metadata": {},
     "execution_count": 19
    }
   ],
   "source": [
    "bandung['name']"
   ]
  },
  {
   "cell_type": "code",
   "execution_count": 20,
   "metadata": {},
   "outputs": [
    {
     "output_type": "error",
     "ename": "KeyError",
     "evalue": "'cakupan'",
     "traceback": [
      "\u001b[0;31m---------------------------------------------------------------------------\u001b[0m",
      "\u001b[0;31mKeyError\u001b[0m                                  Traceback (most recent call last)",
      "\u001b[0;32m<ipython-input-20-afa98de5e537>\u001b[0m in \u001b[0;36m<module>\u001b[0;34m\u001b[0m\n\u001b[0;32m----> 1\u001b[0;31m \u001b[0mbandung\u001b[0m\u001b[0;34m[\u001b[0m\u001b[0;34m'cakupan'\u001b[0m\u001b[0;34m]\u001b[0m\u001b[0;34m\u001b[0m\u001b[0;34m\u001b[0m\u001b[0m\n\u001b[0m",
      "\u001b[0;31mKeyError\u001b[0m: 'cakupan'"
     ]
    }
   ],
   "source": [
    "bandung['cakupan']"
   ]
  },
  {
   "cell_type": "code",
   "execution_count": 25,
   "metadata": {},
   "outputs": [],
   "source": [
    "key = 'tags'\n",
    "for x in json_data['result']['results']:\n",
    "    if key not in x.keys():\n",
    "        print(x['name'])"
   ]
  },
  {
   "cell_type": "code",
   "execution_count": 26,
   "metadata": {
    "tags": []
   },
   "outputs": [],
   "source": [
    "for x in json_data_bd['result']['results']:\n",
    "    if key not in x.keys():\n",
    "        print(x['name'])"
   ]
  },
  {
   "cell_type": "code",
   "execution_count": null,
   "metadata": {},
   "outputs": [],
   "source": []
  }
 ],
 "metadata": {
  "language_info": {
   "codemirror_mode": {
    "name": "ipython",
    "version": 3
   },
   "file_extension": ".py",
   "mimetype": "text/x-python",
   "name": "python",
   "nbconvert_exporter": "python",
   "pygments_lexer": "ipython3",
   "version": "3.7.3-final"
  },
  "orig_nbformat": 2,
  "kernelspec": {
   "name": "python37364bitbb760e31327a443eaa19e35b2b78b4ce",
   "display_name": "Python 3.7.3 64-bit"
  }
 },
 "nbformat": 4,
 "nbformat_minor": 2
}